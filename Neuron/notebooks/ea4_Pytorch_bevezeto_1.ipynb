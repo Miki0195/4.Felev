{
 "cells": [
  {
   "cell_type": "markdown",
   "metadata": {
    "id": "ZhJeEqpAlIKW"
   },
   "source": [
    "# Pytorch és Numpy főbb összehasonlítása"
   ]
  },
  {
   "cell_type": "code",
   "execution_count": null,
   "metadata": {
    "id": "G7_ozf37lHjE"
   },
   "outputs": [],
   "source": [
    "import numpy as np\n",
    "import torch"
   ]
  },
  {
   "cell_type": "markdown",
   "metadata": {
    "id": "4-JCopp3lMEH"
   },
   "source": [
    "A Pytorch szintaxisa, függvény nevei vektorizált műveletek esetén nagyon hasonlít a Numpy-hoz. Azonban akadnak különbségek"
   ]
  },
  {
   "cell_type": "code",
   "execution_count": null,
   "metadata": {
    "colab": {
     "base_uri": "https://localhost:8080/"
    },
    "id": "FMq0YUxHlf1c",
    "outputId": "9c6be8a1-d95e-4cdc-a9bb-deaf92f3fea0"
   },
   "outputs": [
    {
     "name": "stdout",
     "output_type": "stream",
     "text": [
      "tensor([0., 1., 2., 3., 4., 5., 6., 7., 8., 9.])\n"
     ]
    },
    {
     "data": {
      "text/plain": [
       "tensor([0.6947, 1.2844, 0.5525, 0.7235, 0.5141, 1.5224, 1.2505, 0.7877, 0.7465,\n",
       "        0.8854])"
      ]
     },
     "execution_count": 48,
     "metadata": {},
     "output_type": "execute_result"
    }
   ],
   "source": [
    "a = torch.tensor([1, 4, 6, 7]) # array helyett tensor-nak nevezi a pytorch a tömböket\n",
    "a = torch.zeros(10)\n",
    "a = torch.arange(10, dtype=torch.float32)\n",
    "print(a)\n",
    "a = torch.rand((10,2))\n",
    "a.sum(dim=1) # az axis helyett dim kulcsszót használ"
   ]
  },
  {
   "cell_type": "markdown",
   "metadata": {
    "id": "yHLKnO-VlzPN"
   },
   "source": [
    "A pytorch lehetővé teszi a GPU-n való művelet végzést."
   ]
  },
  {
   "cell_type": "code",
   "execution_count": null,
   "metadata": {
    "id": "bjHTmBvjlA-q"
   },
   "outputs": [],
   "source": [
    "print(a.device)\n",
    "a_cuda = torch.arange(10, device='cuda:0')\n",
    "print(a_cuda.device)\n",
    "a.to('cuda:0', dtype=bool)"
   ]
  },
  {
   "cell_type": "markdown",
   "metadata": {
    "id": "AwiLDsMCmCsw"
   },
   "source": [
    "Beépített automatikus deriválás a háttérben."
   ]
  },
  {
   "cell_type": "code",
   "execution_count": null,
   "metadata": {
    "colab": {
     "base_uri": "https://localhost:8080/"
    },
    "id": "HQq3a_a_mspz",
    "outputId": "510b2a1e-0a69-4f3a-b5d0-58e8eeeaacbb"
   },
   "outputs": [
    {
     "name": "stdout",
     "output_type": "stream",
     "text": [
      "Original value: 2.0\n",
      "Gradient: 0.5\n"
     ]
    }
   ],
   "source": [
    "x = torch.tensor([2.0], requires_grad=True)\n",
    "y = torch.log(x)\n",
    "\n",
    "gradient = torch.autograd.grad(y, x)\n",
    "\n",
    "print(\"Original value:\", x.item())\n",
    "print(\"Gradient:\", gradient[0].item())"
   ]
  },
  {
   "cell_type": "markdown",
   "metadata": {
    "id": "JCyVGTC8msR-"
   },
   "source": [
    "A neurális hálók készítéséhez szükséges legtöbb építőelem a Pytorch-ban már előre le van implementálva."
   ]
  },
  {
   "cell_type": "code",
   "execution_count": null,
   "metadata": {
    "id": "ymXzrGVnMyK-"
   },
   "outputs": [],
   "source": [
    "import torch.nn as nn #neurális hálók modul\n",
    "\n",
    "x = torch.rand(32, 4)\n",
    "linear_layer = nn.Linear(4, 8, bias=True, device='cpu')\n",
    "y = linear_layer(x)\n",
    "\n",
    "W = torch.rand((4+1, 8))\n",
    "x = torch.cat([x, torch.ones((32, 1))], dim=-1)\n",
    "y = x @ W"
   ]
  },
  {
   "cell_type": "markdown",
   "metadata": {
    "id": "ptD7YVopnMRJ"
   },
   "source": [
    "# Regresszió Pytorch-al"
   ]
  },
  {
   "cell_type": "markdown",
   "metadata": {
    "id": "4_BOkMqvnZEX"
   },
   "source": [
    "### Adatbázis betöltése"
   ]
  },
  {
   "cell_type": "code",
   "execution_count": null,
   "metadata": {
    "colab": {
     "base_uri": "https://localhost:8080/"
    },
    "id": "jRHSENNGQXzo",
    "outputId": "6f0069c4-9de1-40d8-a6be-5edb82e45e83"
   },
   "outputs": [
    {
     "name": "stdout",
     "output_type": "stream",
     "text": [
      "   MedInc  HouseAge  AveRooms  AveBedrms  Population  AveOccup  Latitude  \\\n",
      "0  8.3252      41.0  6.984127   1.023810       322.0  2.555556     37.88   \n",
      "1  8.3014      21.0  6.238137   0.971880      2401.0  2.109842     37.86   \n",
      "2  7.2574      52.0  8.288136   1.073446       496.0  2.802260     37.85   \n",
      "3  5.6431      52.0  5.817352   1.073059       558.0  2.547945     37.85   \n",
      "4  3.8462      52.0  6.281853   1.081081       565.0  2.181467     37.85   \n",
      "\n",
      "   Longitude  \n",
      "0    -122.23  \n",
      "1    -122.22  \n",
      "2    -122.24  \n",
      "3    -122.25  \n",
      "4    -122.25  \n",
      "    MEDV\n",
      "0  4.526\n",
      "1  3.585\n",
      "2  3.521\n",
      "3  3.413\n",
      "4  3.422\n",
      "             MedInc      HouseAge      AveRooms     AveBedrms    Population  \\\n",
      "count  20640.000000  20640.000000  20640.000000  20640.000000  20640.000000   \n",
      "mean       3.870671     28.639486      5.429000      1.096675   1425.476744   \n",
      "std        1.899822     12.585558      2.474173      0.473911   1132.462122   \n",
      "min        0.499900      1.000000      0.846154      0.333333      3.000000   \n",
      "25%        2.563400     18.000000      4.440716      1.006079    787.000000   \n",
      "50%        3.534800     29.000000      5.229129      1.048780   1166.000000   \n",
      "75%        4.743250     37.000000      6.052381      1.099526   1725.000000   \n",
      "max       15.000100     52.000000    141.909091     34.066667  35682.000000   \n",
      "\n",
      "           AveOccup      Latitude     Longitude  \n",
      "count  20640.000000  20640.000000  20640.000000  \n",
      "mean       3.070655     35.631861   -119.569704  \n",
      "std       10.386050      2.135952      2.003532  \n",
      "min        0.692308     32.540000   -124.350000  \n",
      "25%        2.429741     33.930000   -121.800000  \n",
      "50%        2.818116     34.260000   -118.490000  \n",
      "75%        3.282261     37.710000   -118.010000  \n",
      "max     1243.333333     41.950000   -114.310000  \n",
      "               MEDV\n",
      "count  20640.000000\n",
      "mean       2.068558\n",
      "std        1.153956\n",
      "min        0.149990\n",
      "25%        1.196000\n",
      "50%        1.797000\n",
      "75%        2.647250\n",
      "max        5.000010\n"
     ]
    }
   ],
   "source": [
    "from sklearn.datasets import fetch_california_housing\n",
    "import pandas as pd\n",
    "\n",
    "housing = fetch_california_housing()\n",
    "\n",
    "features = pd.DataFrame(housing.data, columns=housing.feature_names)\n",
    "\n",
    "target = pd.DataFrame(housing.target, columns=['MEDV'])\n",
    "\n",
    "print(features.head())\n",
    "print(target.head())\n",
    "print(features.describe())\n",
    "print(target.describe())"
   ]
  },
  {
   "cell_type": "markdown",
   "metadata": {
    "id": "IrPZzErzn9gI"
   },
   "source": [
    "### Adatbázis felosztása"
   ]
  },
  {
   "cell_type": "code",
   "execution_count": null,
   "metadata": {
    "id": "x8338jtbpIqb"
   },
   "outputs": [],
   "source": [
    "from sklearn.model_selection import train_test_split\n",
    "\n",
    "x_train, x_rest, y_train, y_rest = train_test_split(features.values, target.values, train_size=0.7, random_state=42)\n",
    "x_val, x_test, y_val, y_test = train_test_split(x_rest, y_rest, train_size=0.5, random_state=42)"
   ]
  },
  {
   "cell_type": "markdown",
   "metadata": {
    "id": "icUZNe1ooBbX"
   },
   "source": [
    "# Adatfelsorolók létrehozása"
   ]
  },
  {
   "cell_type": "code",
   "execution_count": null,
   "metadata": {
    "colab": {
     "base_uri": "https://localhost:8080/"
    },
    "id": "EZEMnNFKTrrK",
    "outputId": "c79ba3ea-6277-4226-e469-437396b776b6"
   },
   "outputs": [
    {
     "name": "stdout",
     "output_type": "stream",
     "text": [
      "(tensor([ 1.5086e+00,  1.2000e+01,  3.9837e+00,  9.7003e-01,  1.7080e+03,\n",
      "         4.6540e+00,  3.6210e+01, -1.2010e+02]), tensor([0.6470]))\n"
     ]
    }
   ],
   "source": [
    "from torch.utils.data import Dataset, DataLoader\n",
    "\n",
    "class HousingDataset(Dataset):\n",
    "    def __init__(self, features, target):\n",
    "        self.features = torch.tensor(features, dtype=torch.float32)\n",
    "        self.target = torch.tensor(target, dtype=torch.float32)\n",
    "\n",
    "    def __len__(self):\n",
    "        return len(self.features)\n",
    "\n",
    "    def __getitem__(self, idx):\n",
    "        return self.features[idx], self.target[idx]\n",
    "\n",
    "train_dataset = HousingDataset(x_train, y_train)\n",
    "val_dataset = HousingDataset(x_val, y_val)\n",
    "test_dataset = HousingDataset(x_test, y_test)\n",
    "\n",
    "train_dataloader = DataLoader(train_dataset, batch_size=16, shuffle=True)\n",
    "val_dataloader = DataLoader(val_dataset, batch_size=16, shuffle=True)\n",
    "test_dataloader = DataLoader(test_dataset, batch_size=16, shuffle=True)\n",
    "\n",
    "\n",
    "print(train_dataset[10])"
   ]
  },
  {
   "cell_type": "markdown",
   "metadata": {
    "id": "4usK8QmXobuW"
   },
   "source": [
    "### Regressziós modell definiálása"
   ]
  },
  {
   "cell_type": "code",
   "execution_count": null,
   "metadata": {
    "id": "AZTN5Kp318x-"
   },
   "outputs": [],
   "source": [
    "class RegressionModel(nn.Module):\n",
    "  def __init__(self, input_dim):\n",
    "        super().__init__()\n",
    "        self.linear_relu_layers = nn.Sequential(\n",
    "            nn.Linear(input_dim, 8),\n",
    "            nn.ReLU(),\n",
    "            nn.Linear(8, 4),\n",
    "            nn.ReLU(),\n",
    "            nn.Linear(4, 1)\n",
    "        )\n",
    "\n",
    "  def forward(self, x):\n",
    "      return self.linear_relu_layers(x)"
   ]
  },
  {
   "cell_type": "markdown",
   "metadata": {
    "id": "_a_2ftn4ol18"
   },
   "source": [
    "### Regressziós modell tanítása"
   ]
  },
  {
   "cell_type": "code",
   "execution_count": null,
   "metadata": {
    "colab": {
     "base_uri": "https://localhost:8080/"
    },
    "id": "EHDDfHML4xAp",
    "outputId": "437bb913-1eb8-4a9a-a65f-7f6f89db08db"
   },
   "outputs": [
    {
     "name": "stdout",
     "output_type": "stream",
     "text": [
      "Tranining 1/20 done, training loss: 465.0420837402344, validation loss: 3.5831713676452637\n",
      "Tranining 2/20 done, training loss: 2.904792070388794, validation loss: 1.2217167615890503\n",
      "Tranining 3/20 done, training loss: 1.2435853481292725, validation loss: 1.139128565788269\n",
      "Tranining 4/20 done, training loss: 1.0469318628311157, validation loss: 0.8219037652015686\n",
      "Tranining 5/20 done, training loss: 2.3791027069091797, validation loss: 1.0306397676467896\n",
      "Tranining 6/20 done, training loss: 0.7640678286552429, validation loss: 0.8397340774536133\n",
      "Tranining 7/20 done, training loss: 0.662739098072052, validation loss: 0.6968150734901428\n",
      "Tranining 8/20 done, training loss: 0.6523149609565735, validation loss: 0.5903604030609131\n",
      "Tranining 9/20 done, training loss: 0.6607906818389893, validation loss: 0.5976867079734802\n",
      "Tranining 10/20 done, training loss: 0.6319504976272583, validation loss: 0.8082907795906067\n",
      "Tranining 11/20 done, training loss: 0.6436986327171326, validation loss: 0.6014451384544373\n",
      "Tranining 12/20 done, training loss: 0.6392243504524231, validation loss: 0.6088981628417969\n",
      "Tranining 13/20 done, training loss: 0.7654077410697937, validation loss: 1.6151868104934692\n",
      "Tranining 14/20 done, training loss: 0.7128406167030334, validation loss: 0.6145442724227905\n",
      "Tranining 15/20 done, training loss: 0.6171432137489319, validation loss: 0.553536057472229\n",
      "Tranining 16/20 done, training loss: 0.6045454740524292, validation loss: 0.6998509764671326\n",
      "Tranining 17/20 done, training loss: 0.7464078068733215, validation loss: 0.6012144684791565\n",
      "Tranining 18/20 done, training loss: 0.5967143177986145, validation loss: 0.5649667978286743\n",
      "Tranining 19/20 done, training loss: 0.5984264016151428, validation loss: 0.5951505899429321\n",
      "Tranining 20/20 done, training loss: 0.5862281322479248, validation loss: 0.5379090905189514\n"
     ]
    }
   ],
   "source": [
    "n_epochs = 20\n",
    "model = RegressionModel(8)\n",
    "loss_fn = nn.MSELoss()\n",
    "\n",
    "learning_rate = 0.001\n",
    "optimizer = torch.optim.Adam(model.parameters(), lr=learning_rate)\n",
    "\n",
    "train_losses = []\n",
    "val_losses = []\n",
    "\n",
    "for epoch in range(n_epochs):\n",
    "  model.train()\n",
    "  train_epoch_losses = []\n",
    "\n",
    "  for x, y in train_dataloader:\n",
    "    optimizer.zero_grad()\n",
    "    y_hat = model(x)\n",
    "    loss = loss_fn(y_hat, y)\n",
    "    train_epoch_losses.append(loss)\n",
    "    loss.backward()\n",
    "    optimizer.step()\n",
    "\n",
    "  train_epoch_losses = torch.tensor(train_epoch_losses)\n",
    "  avg_epoch_loss = train_epoch_losses.mean()\n",
    "  train_losses.append(avg_epoch_loss)\n",
    "\n",
    "  model.eval()\n",
    "  val_epoch_losses = []\n",
    "\n",
    "  for x, y in val_dataloader:\n",
    "    with torch.no_grad():\n",
    "      y_hat = model(x)\n",
    "\n",
    "    loss = loss_fn(y_hat, y)\n",
    "    val_epoch_losses.append(loss)\n",
    "\n",
    "  val_epoch_losses = torch.tensor(val_epoch_losses)\n",
    "  avg_epoch_loss = val_epoch_losses.mean()\n",
    "  val_losses.append(avg_epoch_loss)\n",
    "\n",
    "  print(f'Tranining {epoch+1}/{n_epochs} done, training loss: {train_losses[-1]}, validation loss: {val_losses[-1]}')"
   ]
  },
  {
   "cell_type": "markdown",
   "metadata": {
    "id": "TR5RcQknpb9a"
   },
   "source": [
    "### Hiba alakulásának vizualizálása a tanítás során"
   ]
  },
  {
   "cell_type": "code",
   "execution_count": null,
   "metadata": {
    "colab": {
     "base_uri": "https://localhost:8080/",
     "height": 449
    },
    "id": "Y3ozIVWcZ0q-",
    "outputId": "df2a64bb-0949-4e2b-a648-dd88dacedaad"
   },
   "outputs": [
    {
     "data": {
      "image/png": "[encoded data removed]",
      "text/plain": [
       "<Figure size 640x480 with 1 Axes>"
      ]
     },
     "metadata": {},
     "output_type": "display_data"
    }
   ],
   "source": [
    "import matplotlib.pyplot as plt\n",
    "\n",
    "plt.plot(train_losses, label='Training')\n",
    "plt.plot(val_losses, label='Validation')\n",
    "plt.xlabel('Epochs')\n",
    "plt.ylabel('MSE loss')\n",
    "plt.legend()\n",
    "plt.show()"
   ]
  },
  {
   "cell_type": "markdown",
   "metadata": {
    "id": "j_MC1_AVppkT"
   },
   "source": [
    "# Modell kiértékelése a teszt halmazon"
   ]
  },
  {
   "cell_type": "code",
   "execution_count": null,
   "metadata": {
    "colab": {
     "base_uri": "https://localhost:8080/"
    },
    "id": "-aJ95qZodbCF",
    "outputId": "67eab708-9487-4888-b179-6b65c3f9ddd9"
   },
   "outputs": [
    {
     "name": "stdout",
     "output_type": "stream",
     "text": [
      "Average loss on the test dataset:  0.5314286351203918\n",
      "tensor([[1.6513, 0.9200],\n",
      "        [1.2370, 1.5880],\n",
      "        [1.1997, 0.5430],\n",
      "        [1.2010, 1.1170],\n",
      "        [1.1997, 0.9730],\n",
      "        [1.2608, 0.8460],\n",
      "        [2.2513, 1.4000],\n",
      "        [2.0069, 1.9760],\n",
      "        [2.7442, 2.5540],\n",
      "        [2.2412, 3.7600],\n",
      "        [1.4004, 1.3220],\n",
      "        [4.1685, 4.5530],\n",
      "        [2.0472, 2.1840],\n",
      "        [2.7330, 2.8380],\n",
      "        [1.1997, 1.0260],\n",
      "        [1.4105, 0.7290]])\n"
     ]
    }
   ],
   "source": [
    "model.eval()\n",
    "test_losses = []\n",
    "prediction_label_pairs = []\n",
    "for x, y in test_dataloader:\n",
    "    with torch.no_grad():\n",
    "      y_hat = model(x)\n",
    "    loss = loss_fn(y_hat, y)\n",
    "    prediction_label_pairs.append(torch.concat((y_hat, y), dim=-1))\n",
    "    test_losses.append(loss)\n",
    "\n",
    "avg_test_loss = torch.tensor(test_losses).mean()\n",
    "print('Average loss on the test dataset: ', avg_test_loss.item())\n",
    "print(prediction_label_pairs[0])"
   ]
  },
  {
   "cell_type": "markdown",
   "metadata": {
    "id": "DLY7qc85tM5b"
   },
   "source": [
    "### Modell mentése és betöltése"
   ]
  },
  {
   "cell_type": "code",
   "execution_count": null,
   "metadata": {
    "id": "yQp1wsSGtQO2"
   },
   "outputs": [],
   "source": [
    "model_path = 'model.pth'\n",
    "torch.save(model.state_dict, model_path)\n",
    "model.state_dict = torch.load(model_path)"
   ]
  }
 ],
 "metadata": {
  "colab": {
   "provenance": []
  },
  "kernelspec": {
   "display_name": "Python 3 (ipykernel)",
   "language": "python",
   "name": "python3"
  },
  "language_info": {
   "codemirror_mode": {
    "name": "ipython",
    "version": 3
   },
   "file_extension": ".py",
   "mimetype": "text/x-python",
   "name": "python",
   "nbconvert_exporter": "python",
   "pygments_lexer": "ipython3",
   "version": "3.10.11"
  }
 },
 "nbformat": 4,
 "nbformat_minor": 4
}
