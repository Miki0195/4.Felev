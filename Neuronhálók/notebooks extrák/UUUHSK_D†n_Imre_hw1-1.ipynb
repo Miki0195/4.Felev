{
 "cells": [
  {
   "cell_type": "markdown",
   "metadata": {
    "id": "UPNGQgO6aXtZ"
   },
   "source": [
    "# 1. házi feladat\n",
    "\n",
    "Az első házi feladat során egy egyszerű Multi-layer Perceptron (MLP) típusú neuronhálót kell betanítani és kiértékelni egy regressziós és egy klasszifikációs feladaton a PyTorch könyvtár segítségével.\n",
    "\n",
    "A házi feladat több részfeladatból áll (A - I), melyek egymásra épülnek. A feladat automatikus tesztelőszkripttel rendelkezik és vizsgálja az egyes részfeladatokra adott megoldások helyességét. Éppen ezért, **ne változtasd meg a notebook struktúráját**, ne szedd több részre, illetve ne módosítsd a megírt részeket, csak a megoldásaidat írd be a megfelelő helyre, különben nem fogjuk tudni értékelni! A megoldások az `# Implement your solution BELOW` és `# Implement your solution ABOVE` sorok közé írandók. Ha a megoldott részfeladatok futtatásakor a \"Tester: .... OK\" felirat megjelenik, _vélhetően_ jó a megoldás. Azonban, a tesztelőszkript nem képes a megoldás helyességét minden aspektus szerint ellenőrizni. Így elképzelhető, hogy beadás után további javításokat kérünk a megoldásban. A beadott házi feladatok gépi tanulás alapú plágiumellenőrzésen esnek át. Másolás gyanújának felmerülése esetén mind a másolat(ok), mind az azt/azokat ihlető eredeti megoldások visszautasíthatók.\n",
    "\n",
    "**!!! A feladatok megoldását, vagy az arra mutató linkeket bárhol közzétenni tilos !!!**\n",
    "\n",
    "Elakadás esetén javasolt átnézni a Canvason megosztott segédanyag notebookokat és az előadások anyagát. A Canvas fórumon \"HF1 GYIK\" névvel, a gyakori kérdéseket és válaszokat gyűjtjük össze. Továbbá, kérhető segítség az oktatóktól is, például a Teams rendszeren keresztül. Ehhez, kérjük a kurzus Canvas oldalán a legfelső modulban található _\"\n",
    "Teams beszélgetés indítása az oktatókkal\"_ linket használni: ez egy Teams beszélgetést kezdeményez az összes oktatóval egyidejűleg.\n",
    "\n",
    "**Megoldás és beküldés menete:**\n",
    "\n",
    "A közzétett, feladatokat tartalmazó Jupyter notebook a Google Drive-on keresztül lett megosztva, így a Google saját Jupyter notebook szerkesztője és futtatókörnyezete nyílik meg a linkre kattintáskor, a Google Colab. Ennek segítségével online szerkeszthető és futtatható a megosztott notebook. Mivel a notebook csak \"view\" jogosultságokkal van megosztva, a Google Colab az úgynevezett \"Playground\" módban nyitja azt meg, ahol bár szerkeszthető és futtatható a notebook, de a változtatások nem lesznek automatikusan mentve. A notebook maradandó hatásokkal járó szerkesztése az alábbi módokon lehetséges:\n",
    "- Ha online szeretnénk a notebookot szerkeszteni és futtatni a Google Colab segítségével, akkor le kell másolni azt a saját Drive tárhelyre (Google Colab file menü -> Save a copy to Drive), majd a másolatot kell megnyitni szerkesztésre.\n",
    "- A notebook le is tölthető és saját számítógépen is szerkeszthető / futtatható. Ehhez Python környezet megléte szükséges, valamint a notebookban importált Python csomagok és a `jupyterlab`, vagy `notebook` (https://jupyter.org/install) csomag telepítése szükséges a Python disztribúciónk csomagkezelőjével (`pip`, `conda`, stb.).\n",
    "\n",
    "A kész megoldást tartalmazó notebookot (.ipynb) fájlként kell feltölteni a Canvas-ban, a házi feladat beadási felületén.\n",
    "**Kérjük a notebook szerkezetét nem módosítani és nem szétszedni külön feladatok szerint!**\n",
    "\n",
    "**Határidő:** 2023. március 30., szombat, 23:59.\n",
    "\n",
    "**Késve legkésőbb leadható:** 2023. április 5., péntek, 23:59. - **Ezt követően pótlásra és/vagy javításra nincs lehetőség, ezáltal jegyszerzésre sem. !!!**\n",
    "\n",
    "**Értékelés:** A házi feladat helyes megoldása és oktatók által történő elfogadása feltétele a jegyszerzésnek. A házi feladat minősége részletesen pontozásra nem kerül, az értékelése kétfokozatú: megfelelt / nem felelt meg. Az első határidőig leadott nagyrészt helyes és nagyrészt teljes (\"megfelelt\") megoldásért 10 pont jár. Késés esetén ez elveszik.\n",
    "\n",
    "**Kikötés:** Ahol csak lehet, hatékony, vektorizált megoldásokat várunk. További részletekért lásd: Canvas, HF1 GYIK fórum, \"Használhatók-e Python ciklusok?\" bejegyzés."
   ]
  },
  {
   "cell_type": "markdown",
   "metadata": {
    "id": "dEKuTE7hGsZr"
   },
   "source": [
    "Tesztelő szkript letöltése, importok."
   ]
  },
  {
   "cell_type": "code",
   "execution_count": 1,
   "metadata": {
    "colab": {
     "base_uri": "https://localhost:8080/"
    },
    "executionInfo": {
     "elapsed": 5928,
     "status": "ok",
     "timestamp": 1711703124129,
     "user": {
      "displayName": "DarkLight19",
      "userId": "10102709299780904116"
     },
     "user_tz": -60
    },
    "id": "dc9fa3F-T0u5",
    "outputId": "8b51989c-5648-40e9-a3d1-879d3a17330f",
    "tags": []
   },
   "outputs": [
    {
     "name": "stderr",
     "output_type": "stream",
     "text": [
      "'rm' is not recognized as an internal or external command,\n",
      "operable program or batch file.\n",
      "'wget' is not recognized as an internal or external command,\n",
      "operable program or batch file.\n"
     ]
    }
   ],
   "source": [
    "# Download tester\n",
    "!rm annbsc24_p1_hw1_tester.py\n",
    "!wget https://nipg12.inf.elte.hu/~vavsaai@nipg.lab/annbsc24_p1/files/annbsc24_p1_hw1_tester.py\n",
    "\n",
    "import copy\n",
    "import numpy as np\n",
    "import torch\n",
    "import torch.nn as nn\n",
    "from torch.utils.data import Dataset, DataLoader\n",
    "\n",
    "import matplotlib.pyplot as plt\n",
    "\n",
    "from annbsc24_p1_hw1_tester import Tester"
   ]
  },
  {
   "cell_type": "markdown",
   "metadata": {
    "id": "BJ7TTytUaUwW"
   },
   "source": [
    "###**A**: Az adatbázis betöltése\n",
    "\n",
    "**Információ az adatbázisról**:\n",
    "Az adatbázis az UCI Machine Learning Repository-ról származik (http://archive.ics.uci.edu/ml/datasets/Student+Performance). Két portugál középiskolában tanuló diákok néhány adatát és a harmadév végi, év végi jegyeiket (0-20) tartalmazza. A házi feladat keretében, **neuronhálókkal próbálunk a diákok szociális és pénzügyi háttere alapján becsléseket adni az iskolai teljesítményükre.**\n",
    "\n",
    "A tesztelőszkript letölti a szöveges formában tárolt adatbázist és elhelyezi a `content` sztringben. Alább, kiírjuk a hosszát és az első 500 karaktert is a sztringből. Az adatbázis fájlok egy-egy sora adja meg az egy-egy mintaelemhez tartozó változók értékeit. A sorokban az egyes változókhoz tartozó értékek pontosvesszővel vannak elválasztva. Az adatbázis első sora a változók neveit tartalmazza.\n",
    "\n",
    "A feladatod, hogy **alakítsd át a `content` sztringet az adatbázis változóinak értékeit tartalmazó NumPy tömbbé.** A tömbök adattípusa np.float32 (lebegőpontos) legyen! A változók értékeit helyezd el a `dataset_noisy` (n_mintaelem, n_változó) alakú tömbben!  Az input változókat és címkéket később választjuk majd szét.\n",
    "\n",
    "Az adatbázis helyenként hiányzó értékeket tartalmaz: az adatok egy része nem volt elérhető az adatbázis rögzítésekor. Konkrétabban, a család méretét, a szülők együttélését és munkáját leíró oszlopokban találhatók hiányzó értékek. Ezek az ötödik (famsize), hatodik (Pstatus), kilencedik (Mjob) és tizedik (Fjob) oszlopokban találhatók. Hiányzó értékek esetén a `content` sztringben ténylegesen is hiányoznak a megfelelő pontosvesszők közt elhelyezkedő értékek, tehát ilyenkor két (vagy több) pontosvessző következik egymás után.\n",
    "\n",
    "A hiányzó értékeket kezelned kell és fel kell ismerned beolvasás közben: a hiányzó értékek helyére a `dataset_noisy` tömbben `np.nan` (Not-a-Number) értékek kell, hogy kerüljenek. A NaN értékek kezeléséről rövid útmutató található a Canvas-on, a HF1 GYIK fórum válaszai közt."
   ]
  },
  {
   "cell_type": "code",
   "execution_count": 4,
   "metadata": {
    "colab": {
     "base_uri": "https://localhost:8080/"
    },
    "executionInfo": {
     "elapsed": 244,
     "status": "ok",
     "timestamp": 1711703127425,
     "user": {
      "displayName": "DarkLight19",
      "userId": "10102709299780904116"
     },
     "user_tz": -60
    },
    "id": "OdKqP5OvXJpX",
    "outputId": "0c0f6300-7f93-4628-8a14-c779282fdab0"
   },
   "outputs": [
    {
     "name": "stdout",
     "output_type": "stream",
     "text": [
      "Number of characters in dataset: 27388\n",
      "school;sex;age;address;famsize;Pstatus;Medu;Fedu;Mjob;Fjob;reason;guardian;traveltime;studytime;failures;schoolsup;famsup;paid;activities;nursery;higher;internet;romantic;famrel;freetime;goout;Dalc;Walc;health;absences;G1;G2;G3\n",
      "0;0;18;0;1;1;4;4;5;0;4;0;2;2;0;0;1;1;1;0;0;1;1;4;3;4;1;1;3;6;5;6;6\n",
      "0;0;17;0;1;0;1;1;5;3;4;1;1;2;0;1;0;1;1;1;0;0;1;5;3;3;1;1;3;4;5;5;6\n",
      "0;0;15;0;0;0;1;1;5;3;3;0;1;2;3;0;1;0;1;0;0;0;1;4;3;2;2;3;3;10;7;8;10\n",
      "0;0;15;0;1;0;4;2;;4;0;0;1;3;0;1;0;0;0;0;0;0;0;3;2;2;1;1;5;2;15;14;15\n",
      "\n"
     ]
    }
   ],
   "source": [
    "tester = Tester()\n",
    "content = tester.get_dataset_content()\n",
    "\n",
    "print(\"Number of characters in dataset:\", len(content))\n",
    "print(content[:500])\n"
   ]
  },
  {
   "cell_type": "code",
   "execution_count": 5,
   "metadata": {
    "colab": {
     "base_uri": "https://localhost:8080/"
    },
    "executionInfo": {
     "elapsed": 4,
     "status": "ok",
     "timestamp": 1711703128759,
     "user": {
      "displayName": "DarkLight19",
      "userId": "10102709299780904116"
     },
     "user_tz": -60
    },
    "id": "q_kfEC4sEMtw",
    "outputId": "bd779c93-a1cc-483f-9b09-6aa2327b6a95"
   },
   "outputs": [
    {
     "name": "stdout",
     "output_type": "stream",
     "text": [
      "Tester: Dataset loading OK\n"
     ]
    }
   ],
   "source": [
    "# implement your solution BELOW\n",
    "index = content.find(\"\\n\")\n",
    "titles = content[:index].split(\";\")\n",
    "\n",
    "as_list = []\n",
    "for line in content[index + 1:].splitlines():\n",
    "  templist = []\n",
    "  for j,item in enumerate(line.split(';')):\n",
    "    if item == '':\n",
    "      templist.append(np.NaN)\n",
    "    else:\n",
    "      templist.append(np.float32(item))\n",
    "  as_list.append(templist)\n",
    "\n",
    "dataset_noisy = np.array(as_list,dtype=np.float32)\n",
    "\n",
    "# implement your solution ABOVE\n",
    "\n",
    "tester.test('dataset_load', dataset_noisy)"
   ]
  },
  {
   "cell_type": "markdown",
   "metadata": {
    "id": "h742EV1H38vK"
   },
   "source": [
    "## **B**: A hiányzó adat kezelése\n",
    "\n",
    "NaN értékekkel nem fogunk tudni tovább dolgozni, hiszen a legtöbb NumPy/PyTorch művelet nem támogatja őket és bármilyen tömbre, melyben legalább egy NaN érték található, ezen műveletek kimenete is NaN lesz, így például a neuronhálónk becslése és költsége is. Utóbbi megakadályozza, hogy a hálót gradiens módszerrel optimalizáljuk. Éppen ezért, a hiányzó adatokat reprezentáló NaN értékeket az alábbi módon fogjuk eltüntetni:\n",
    "\n",
    "**Hozz létre minden NaN értéket tartalmazó változóhoz egy-egy újabb változót, melyek azt jelzik, hogy valódi érték található-e az adott változóban az adott mintaelemnél, vagy nem!** Valódi érték esetén az új változó kapjon 1 értéket, NaN esetén pedig 0 értéket! Helyezd el az eredeti adatot és az új változókat a `dataset` tömbben: az új változók oszlopai kerüljenek megfelelő sorrendben az összes eredeti változót tartalmazó oszlop **után**! Az előző feladat leírásában említésre került, hogy melyik oszlopok tartalmazhatnak NaN értékeket.</br>\n",
    "Mivel a 33 változós adatbázisunk #4, #5, #8 és #9 indexű oszlopai (változói) tartalmazhatnak NaN értékeket, akkor az új `dataset` tömbünk 37 változós lesz és a négy új változó az utolsó négy oszlopba kerül. Például tehát, a #33 indexű oszlopban egy adott sorba nullás érték kerül, ha a #4-es oszlopban annál a sornál NaN található, egyébként pedig 1-es érték kerül oda. Hasonlóan készítjük el a #34, #35, #36 indexű oszlopokat az #5, #8 és #9 indexű oszlopok alapján.\n",
    "\n",
    "Végül, **helyettesítsd** az így elkészült **tömb összes NaN értékét nullával!**\n"
   ]
  },
  {
   "cell_type": "code",
   "execution_count": 6,
   "metadata": {
    "colab": {
     "base_uri": "https://localhost:8080/"
    },
    "executionInfo": {
     "elapsed": 253,
     "status": "ok",
     "timestamp": 1711703130626,
     "user": {
      "displayName": "DarkLight19",
      "userId": "10102709299780904116"
     },
     "user_tz": -60
    },
    "id": "tqx3YTmF4KGT",
    "outputId": "3cbae019-800d-445c-df99-d9811741def2"
   },
   "outputs": [
    {
     "name": "stdout",
     "output_type": "stream",
     "text": [
      "Tester: Dataset loading OK\n"
     ]
    }
   ],
   "source": [
    "# implement your solution BELOW\n",
    "\n",
    "c4Mask = np.isnan(dataset_noisy[:,4])\n",
    "c5Mask = np.isnan(dataset_noisy[:,5])\n",
    "c8Mask = np.isnan(dataset_noisy[:,8])\n",
    "c9Mask = np.isnan(dataset_noisy[:,9])\n",
    "\n",
    "column33 = (~c4Mask * 1).reshape(dataset_noisy.shape[0],1)\n",
    "column34 = (~c5Mask * 1).reshape(dataset_noisy.shape[0],1)\n",
    "column35 = (~c8Mask * 1).reshape(dataset_noisy.shape[0],1)\n",
    "column36 = (~c9Mask * 1).reshape(dataset_noisy.shape[0],1)\n",
    "\n",
    "dataset = np.concatenate((dataset_noisy,column33,column34,column35,column36), axis = 1, dtype = np.float32)\n",
    "\n",
    "dataset[c4Mask,4] = 0\n",
    "dataset[c5Mask,5] = 0\n",
    "dataset[c8Mask,8] = 0\n",
    "dataset[c9Mask,9] = 0\n",
    "\n",
    "# implement your solution ABOVE\n",
    "\n",
    "tester.test('dataset_fill_missing', dataset)"
   ]
  },
  {
   "cell_type": "markdown",
   "metadata": {
    "id": "KrE7NLJTR7Aq"
   },
   "source": [
    "## **C**: Tanító-, validációs- és teszthalmaz szétválasztása\n",
    "\n",
    "**Keverd meg véletlenszerűen a mintaelemeket** a `dataset` tömbben! Ezt általánosságban azért célszerű megtenni, mert az adatbázisban az elemek valamilyen tulajdonságaik alapján rendezve lehetnek. Megkeverés nélkül, a szétválasztott halmazokban jelentősen különbözne a címkék eloszlása.\n",
    "\n",
    "Ezt követően **válaszd szét a tömböt tanító-, validációs- és teszthalmazra**, 60%, 20%, 20% arányban! A halmazokat tartalmazó három tömböt nevezd el `dataset_split_train`, `dataset_split_val`, `dataset_split_test`-nek, sorrendben!"
   ]
  },
  {
   "cell_type": "code",
   "execution_count": 7,
   "metadata": {
    "colab": {
     "base_uri": "https://localhost:8080/"
    },
    "executionInfo": {
     "elapsed": 5,
     "status": "ok",
     "timestamp": 1711703132393,
     "user": {
      "displayName": "DarkLight19",
      "userId": "10102709299780904116"
     },
     "user_tz": -60
    },
    "id": "VlPL_GE2xcR1",
    "outputId": "64fb152a-ff6b-4897-a02d-ecba67ba6a88"
   },
   "outputs": [
    {
     "name": "stdout",
     "output_type": "stream",
     "text": [
      "Tester: Dataset split OK\n"
     ]
    }
   ],
   "source": [
    "# implement your solution BELOW\n",
    "\n",
    "np.random.seed(42)\n",
    "np.random.shuffle(dataset)\n",
    "\n",
    "rowCount = dataset.shape[0]\n",
    "\n",
    "dataset_split_train = dataset[:int(rowCount*0.6),:]\n",
    "\n",
    "dataset_split_val = dataset[int(rowCount*0.6):int(rowCount*0.8),:]\n",
    "\n",
    "\n",
    "dataset_split_test = dataset[int(rowCount*0.8):,:]\n",
    "\n",
    "# implement your solution ABOVE\n",
    "\n",
    "tester.test('dataset_split', dataset_split_train, dataset_split_val, dataset_split_test)"
   ]
  },
  {
   "cell_type": "markdown",
   "metadata": {
    "id": "jCQKy2XL_yEx"
   },
   "source": [
    "## **D**: Az adat-iterátorok létrehozása a regressziós feladathoz\n",
    "\n",
    "A neuronhálók gradiens módszeres betanítását a legtöbbször iterátorokkal valósítjuk meg, melyek bejárják az adatbázisunkat és előállítják a neuronhálók tanításához szükséges input és címke kötegeket. A regressziós feladat során a becsülendő címkeváltozó a diákok év végi jegye lesz (`G3` nevű oszlop az eredeti adatbázis szövegfájlban - ez a 32-es indexű oszlop), míg az input változókat az összes többi attribútum adja, beleértve az újonnan előállított négy változót is.\n",
    "\n",
    "Ebben a részfeladatban **elő kell állítanod három iterátor objektumot** `dataloader_reg_train`, `dataloader_reg_val`, `dataloader_reg_test` néven, melyek az előző részfeladatban elkészített tanító-, validációs- és teszthalmazokat tartalmazó tömböket járják be. **Az iterátorok minden lépésben két tenzort adnak vissza**, melyek egy-egy kötegnyi input és címke adatot tárolnak el. A visszaadott tenzorok alakja tehát `(batch_size, 36)` és `(batch_size, 1)` lesz. Utóbbi (a címkéket tartalmazó tenzor) a diákok év végi jegyeit fogja tartalmazni, előbbi pedig az adatbázis összes többi változójának értékét a megfelelő mintaelemekre. `batch_size` a mintaelemek számát adja meg, melyeket egyszerre, egy kötegben fog megkapni a neuronhálónk - ennek értéke lehet például 32.\n",
    "\n",
    "Hangsúlyozandó, hogy az iterátorok a fent említett NumPy tömbökből (`np.ndarray`) nyert mintaelem-kötegeket már `torch.tensor` típusú objektumokként adják vissza (pontosabban, kételemű tuple-öket adnak vissza, melyekben `torch.tensor` objektumok lesznek). A PyTorch-al definiált neuronhálók betanításához már mindenképp PyTorch tenzorok szükségesek. A tenzorok **adattípusa** 4 bájtos lebegőpontos típus (`torch.float32`) legyen!\n",
    "\n",
    "A **tanító és validációs halmazt felsoroló iterátorok járják be véletlen sorrendben** a hozzájuk tartozó mintaelemeket! A teszt halmazt felsoroló iterátor ne változtasson a `dataset_split_test` tömb sorrendjén!\n",
    "\n",
    "Az iterátorok implementációja többféleképpen megoldható, de javasolt a `torch.utils.data` modul `Dataset` és `DataLoader` osztályait felhasználni, vagy szükség esetén származtatni őket."
   ]
  },
  {
   "cell_type": "code",
   "execution_count": 8,
   "metadata": {
    "colab": {
     "base_uri": "https://localhost:8080/"
    },
    "executionInfo": {
     "elapsed": 7,
     "status": "ok",
     "timestamp": 1711703134930,
     "user": {
      "displayName": "DarkLight19",
      "userId": "10102709299780904116"
     },
     "user_tz": -60
    },
    "id": "ls4niplvUgQ6",
    "outputId": "bf872c30-850a-4c7e-e1bb-98c1f7a8b45c"
   },
   "outputs": [
    {
     "name": "stdout",
     "output_type": "stream",
     "text": [
      "Tester: Dataset iterators for regression task OK\n"
     ]
    }
   ],
   "source": [
    "# implement your solution BELOW\n",
    "\n",
    "G3_INDEX = titles.index(\"G3\")\n",
    "BATCH_SIZE = 32\n",
    "\n",
    "class MyDataSet(Dataset):\n",
    "  def __init__(self, array):\n",
    "    self.target = torch.tensor(array[:,G3_INDEX].reshape(array.shape[0],1), dtype=torch.float32)\n",
    "    self.features = torch.tensor(np.delete(array,G3_INDEX,1), dtype=torch.float32)\n",
    "\n",
    "  def __getitem__(self, idx):\n",
    "    return (self.features[idx], self.target[idx])\n",
    "\n",
    "  def __len__(self):\n",
    "    return len(self.features)\n",
    "\n",
    "dataloader_reg_train = DataLoader(MyDataSet(dataset_split_train), batch_size = BATCH_SIZE, shuffle=True)\n",
    "dataloader_reg_val = DataLoader(MyDataSet(dataset_split_val), batch_size = BATCH_SIZE, shuffle=True)\n",
    "dataloader_reg_test = DataLoader(MyDataSet(dataset_split_test), batch_size = BATCH_SIZE, shuffle=False)\n",
    "\n",
    "# implement your solution ABOVE\n",
    "\n",
    "tester.test('reg_iter', dataloader_reg_train, dataloader_reg_val, dataloader_reg_test)"
   ]
  },
  {
   "cell_type": "markdown",
   "metadata": {
    "id": "dohOMs4NlVXG"
   },
   "source": [
    "## **E**: A regressziós neuronháló definiálása\n",
    "\n",
    "**Definiáld a regressziós feladathoz alkalmazandó neuronhálót megvalósító osztályt**, mely az általános `torch.nn.Module` osztály leszármazottja, majd példányosítsd azt és add értékül a `reg_model` nevű változónak a példányt!\n",
    "\n",
    "A regressziós neuronháló **tartalmazzon 3 teljesen összekötött réteget, sorban 30, 20 és 1 neuronnal és alkalmazza a ReLU aktivációs függvényt a rétegek között!**\n",
    "\n",
    "Az új osztálynak mindenképpen meg kell valósítania a `forward(self, x)` tagfüggvényt, mely a neuronhálót (hipotézisfüggvényt) az `x` input tenzorra kiértékeli. A `forward` függvény fogja majd az előbb definiált adat-iterátorból érkező input tenzorokat megkapni és előállítani belőle a címkebecsléseket. Az osztály konstruktorában célszerű a neuronhálónk rétegeit inicializálni."
   ]
  },
  {
   "cell_type": "code",
   "execution_count": 44,
   "metadata": {
    "colab": {
     "base_uri": "https://localhost:8080/"
    },
    "executionInfo": {
     "elapsed": 237,
     "status": "ok",
     "timestamp": 1711704392634,
     "user": {
      "displayName": "DarkLight19",
      "userId": "10102709299780904116"
     },
     "user_tz": -60
    },
    "id": "rAywpNOml4VL",
    "outputId": "0bbb4c76-cd16-45c2-c08f-30097d6bfc1b"
   },
   "outputs": [
    {
     "name": "stdout",
     "output_type": "stream",
     "text": [
      "Tester: Regression model architecture OK\n"
     ]
    }
   ],
   "source": [
    "# implement your solution BELOW\n",
    "\n",
    "class RegressionModel(torch.nn.Module):\n",
    "  def __init__(self, input_dim):\n",
    "        super().__init__()\n",
    "        self.linear_relu_layers = nn.Sequential(\n",
    "            nn.Linear(input_dim, 30),\n",
    "            nn.ReLU(),\n",
    "            nn.Linear(30, 20),\n",
    "            nn.ReLU(),\n",
    "            nn.Linear(20, 1)\n",
    "        )\n",
    "\n",
    "\n",
    "  def forward(self, x):\n",
    "      return self.linear_relu_layers(x)\n",
    "\n",
    "reg_model = RegressionModel(dataset.shape[1] - 1)\n",
    "# implement your solution ABOVE\n",
    "\n",
    "tester.test('reg_model_architecture', reg_model)"
   ]
  },
  {
   "cell_type": "markdown",
   "metadata": {
    "id": "Pz4fFtBUhUXV"
   },
   "source": [
    "## **F**: A háló betanítása regressziós feladatra\n",
    "\n",
    "**Tanítsd be a** `reg_model` **neuronhálót** a tanítóhalmazon a `dataloader_reg_train` iterátor segítségével és alkalmazd a `dataloader_reg_val` iterátort a validációhoz! Az iterátorok egyetlen (akár véletlen sorrendben történő) végighaladása a tanító és validációs adathalmazokon határoz meg egy _epoch_-ot.\n",
    "\n",
    "Alkalmazd a regressziókor szokásosan használt **\"átlagos négyzetes eltérés\" költséget**! **Mérd le minden epoch-ban a tanító- és a validációs halmazon mért költségeket, majd a tanítás végeztével rajzold ki ezeknek az értékeknek a tanítás során való alakulását egy közös grafikonon!** A grafikonok kirajzolásához használhatod például a `matplotlib` könyvtárat. Figyelj rá, hogy a grafikonon jól látszódjanak a görbék közti eltérések a tanítás végén is! Ha szükséges, beállíthatod ehhez kézzel, hogy az y tengely melyik részét mutassa a grafikon. **A grafikonon legyen jelmagyarázat** (legend), mely megmutatja, melyik görbe írja le a tanítási költséget és melyik a validációs költséget!\n",
    "\n",
    "Azt, hogy a tanítás meddig tartson (az epoch-ok számát) megadhatod kézzel is, a validációs költség alakulása alapján: próbáld úgy megadni, hogy a neuronháló lehetőleg jól betanult legyen, de súlyos túltanulás még ne jelenjen meg!\n",
    "\n",
    "A betanításhoz válassz egy gradiens módszer alapú **optimalizációs algoritmust** a `torch.optim` modulból (pl. `SGD`, `Adam`, `RMSprop`, stb.), majd válassz egy megfelelő **tanulási rátát** is!\n",
    "\n",
    "A betanítás végeztével **mérd le az átlagos költséget a teljes teszthalmazon** és add értékül a kapott számot a `test_mse` változónak!\n",
    "\n",
    "Ezt követően, **válassz néhány mintaelemet a teszthalmazból** (például a `dataloader_reg_test` iterátor segítségével) és **adj becslést a címkéjükre** az input változók értékei alapján, majd **írasd ki az egyes mintaelemekre a becsült és az igazi címkéjüket!** Így példákon is láthatjuk, hogy mennyire ad jó becsléseket a neuronhálónk.\n",
    "\n"
   ]
  },
  {
   "cell_type": "code",
   "execution_count": 45,
   "metadata": {
    "colab": {
     "base_uri": "https://localhost:8080/",
     "height": 663
    },
    "executionInfo": {
     "elapsed": 2880,
     "status": "ok",
     "timestamp": 1711704399149,
     "user": {
      "displayName": "DarkLight19",
      "userId": "10102709299780904116"
     },
     "user_tz": -60
    },
    "id": "ReFyxJXAzcx5",
    "outputId": "3833c1bd-1645-4d50-878b-11f53b27e2ed"
   },
   "outputs": [
    {
     "data": {
      "image/png": "[encoded data removed]",
      "text/plain": [
       "<Figure size 640x480 with 1 Axes>"
      ]
     },
     "metadata": {},
     "output_type": "display_data"
    },
    {
     "name": "stdout",
     "output_type": "stream",
     "text": [
      "Test sample #1, pred vs true label: 9.60810661315918 vs 10.0\n",
      "Test sample #2, pred vs true label: 9.905488014221191 vs 10.0\n",
      "Test sample #3, pred vs true label: 10.167136192321777 vs 10.0\n",
      "Test sample #4, pred vs true label: 10.482290267944336 vs 10.0\n",
      "Test sample #5, pred vs true label: 14.45950698852539 vs 15.0\n",
      "Test sample #6, pred vs true label: 14.71530532836914 vs 15.0\n",
      "Test sample #7, pred vs true label: 17.823637008666992 vs 18.0\n",
      "Test sample #8, pred vs true label: 8.450891494750977 vs 9.0\n",
      "Test sample #9, pred vs true label: 11.414653778076172 vs 11.0\n",
      "Test sample #10, pred vs true label: 8.715965270996094 vs 10.0\n",
      "Test metrics - MSE: 3.36950945854187\n",
      "Tester: Regression model learning OK\n"
     ]
    }
   ],
   "source": [
    "# implement your solution BELOW\n",
    "\n",
    "# Kezdeti értékek:\n",
    "\n",
    "epoch_count = 150\n",
    "loss_fn = torch.nn.MSELoss();\n",
    "learning_rate = 0.0005\n",
    "\n",
    "optimizer = torch.optim.RMSprop(reg_model.parameters(), lr=learning_rate)\n",
    "\n",
    "# Tanítás:\n",
    "\n",
    "global_train_losses = []\n",
    "global_val_losses = []\n",
    "\n",
    "for epoch in range(epoch_count):\n",
    "  reg_model.train()\n",
    "\n",
    "  train_losses = []\n",
    "\n",
    "  for x,y in dataloader_reg_train:\n",
    "    optimizer.zero_grad()\n",
    "    guess = reg_model(x)\n",
    "    loss = loss_fn(guess, y)\n",
    "\n",
    "    train_losses.append(loss)\n",
    "\n",
    "    loss.backward()\n",
    "    optimizer.step()\n",
    "\n",
    "  train_losses = torch.tensor(train_losses)\n",
    "  global_train_losses.append(train_losses.mean())\n",
    "\n",
    "  reg_model.eval()\n",
    "\n",
    "  val_losses = []\n",
    "\n",
    "  for x,y in dataloader_reg_val:\n",
    "    with torch.no_grad():\n",
    "      guess = reg_model(x)\n",
    "    loss = loss_fn(guess, y)\n",
    "\n",
    "    val_losses.append(loss)\n",
    "\n",
    "  val_losses = torch.tensor(val_losses)\n",
    "  global_val_losses.append(val_losses.mean())\n",
    "\n",
    "# Gráf + statisztikák:\n",
    "\n",
    "plt.plot(global_train_losses, label='Training')\n",
    "plt.plot(global_val_losses, label='Validation')\n",
    "plt.xlabel('Epochs')\n",
    "plt.ylabel('MSE loss')\n",
    "plt.legend()\n",
    "plt.ylim(0,25)\n",
    "plt.show()\n",
    "\n",
    "test_losses = []\n",
    "for x,y in dataloader_reg_test:\n",
    "    with torch.no_grad():\n",
    "      guess = reg_model(x)\n",
    "    loss = loss_fn(guess, y)\n",
    "    test_losses.append(loss)\n",
    "\n",
    "test_losses = torch.tensor(test_losses)\n",
    "\n",
    "test_mse = test_losses.mean()\n",
    "\n",
    "# Pédák:\n",
    "\n",
    "example_count = 0\n",
    "\n",
    "#példák randomizációval:\n",
    "batch_indices = list(range(len(dataloader_reg_test.dataset)))\n",
    "np.random.shuffle(batch_indices)\n",
    "\n",
    "for batch_idx in batch_indices:\n",
    "  x,y = dataloader_reg_test.dataset[batch_idx]\n",
    "  with torch.no_grad():\n",
    "    guess = reg_model(x)\n",
    "  for i in range(len(guess)):\n",
    "    if example_count >= 10:\n",
    "      break\n",
    "    example_count += 1\n",
    "    print(\"Test sample #\", example_count, \", pred vs true label: \", float(guess[i].item()), \" vs \", float(y.item()), sep=\"\")\n",
    "  if example_count >= 10:\n",
    "    break\n",
    "\n",
    "print(\"Test metrics - MSE:\", float(test_mse))\n",
    "\n",
    "# implement your solution ABOVE\n",
    "\n",
    "tester.test('reg_model_learning', test_mse)"
   ]
  },
  {
   "cell_type": "markdown",
   "metadata": {
    "id": "pTBqUmDzPiYI"
   },
   "source": [
    "## **G**: Az adat-iterátorok létrehozása a klasszifikációs feladathoz\n",
    "\n",
    "Hasonlóan a D) feladathoz, itt is három adat-iterátort kell létrehoznunk, azonban ezúttal egy kissé eltérő feladatot fogunk megtanulni megoldani, így a visszaadott tenzorok alakja / adattípusa is eltérő lesz. **Állítsd elő** a `dataloader_cl_train`, `dataloader_cl_val`, `dataloader_cl_test` nevű **iterátorokat**, melyek ugyancsak a C) részfeladatban elkészült tanító-, validációs- és teszthalmazokat tartalmazó tömböket járják be! A klasszifikációs feladatban input változókként az összes változót felhasználjuk az adatbázisban, kivéve a három harmadév végi jegyét a diákoknak (`G1`, `G2`, `G3` nevű, #30, #31 és #32 indexű oszlopok az eredeti adatbázis szövegfájlban). Címkeként három kategóriát definiálunk és az összes diákot besoroljuk ezekbe a kategóriákba:\n",
    "- **\"Gyengén teljesítő diákok\"** kategória, #0 kategóriaindex: azon diákok kerülnek ide, akik átlagos jegye kisebb, mint 9.5.\n",
    "- **\"Közepesen teljesítő diákok\"** kategória, #1 kategóriaindex: azon diákok kerülnek ide, akik legnagyobb jegye kisebb, mint 14, de nem tartoznak a \"Gyengén teljesítő diákok\" közé.\n",
    "- **\"Jól teljesítő diákok\"** kategória, #2 kategóriaindex: azon diákok kerülnek ide, akik nem tartoznak a másik két kategóriába.\n",
    "\n",
    "A fentiek alapján az iterátorok által visszaadott tenzorok alakja `(batch_size, 34)` és `(batch_size, 1)` lesz. Utóbbi (a címkéket tartalmazó tenzor) a diákok kategóriaindexét fogja tartalmazni (azaz 0, 1, vagy 2 értékeket, `torch.int64` adattípusban), előbbi pedig az adatbázis összes felhasznált változójának értékét a megfelelő mintaelemekre `torch.float32` adattípusban. `batch_size` ezúttal is a mintaelemek számát adja meg, ez kézzel beállítandó.\n",
    "\n",
    "A **tanító és validációs halmazt felsoroló iterátorok véletlen sorrendben járják be** a hozzájuk tartozó mintaelemeket! A teszt halmazt felsoroló iterátor ne változtasson a `dataset_split_test` tömb sorrendjén!"
   ]
  },
  {
   "cell_type": "code",
   "execution_count": 55,
   "metadata": {
    "colab": {
     "base_uri": "https://localhost:8080/"
    },
    "executionInfo": {
     "elapsed": 246,
     "status": "ok",
     "timestamp": 1711705207920,
     "user": {
      "displayName": "DarkLight19",
      "userId": "10102709299780904116"
     },
     "user_tz": -60
    },
    "id": "I4QacNSQAhdz",
    "outputId": "d5d14e70-af39-4b96-9706-f7628f9f2b65"
   },
   "outputs": [
    {
     "name": "stdout",
     "output_type": "stream",
     "text": [
      "Tester: Dataset iterators for classification task OK\n"
     ]
    }
   ],
   "source": [
    "# implement your solution BELOW\n",
    "\n",
    "G1_INDEX = titles.index(\"G1\")\n",
    "G2_INDEX = titles.index(\"G2\")\n",
    "\n",
    "BATCH_SIZE = 32\n",
    "\n",
    "class MyDataSetForG(Dataset):\n",
    "  def __init__(self, array):\n",
    "    target_list = []\n",
    "    for item in array[:,G1_INDEX:G3_INDEX + 1]:\n",
    "      avg = sum(item) / 3.0\n",
    "      if avg < 9.5:\n",
    "        target_list.append(0)\n",
    "      elif avg < 14:\n",
    "        target_list.append(1)\n",
    "      else:\n",
    "        target_list.append(2)\n",
    "\n",
    "    self.target = torch.tensor(target_list, dtype=torch.int64)\n",
    "    self.features = torch.tensor(np.delete(array,[G1_INDEX, G2_INDEX, G3_INDEX],1), dtype=torch.float32)\n",
    "\n",
    "  def __getitem__(self, idx):\n",
    "    return (self.features[idx], self.target[idx])\n",
    "\n",
    "  def __len__(self):\n",
    "    return len(self.features)\n",
    "\n",
    "dataloader_cl_train = DataLoader(MyDataSetForG(dataset_split_train), batch_size = BATCH_SIZE, shuffle=True)\n",
    "dataloader_cl_val = DataLoader(MyDataSetForG(dataset_split_val), batch_size = BATCH_SIZE, shuffle=True)\n",
    "dataloader_cl_test = DataLoader(MyDataSetForG(dataset_split_test), batch_size = BATCH_SIZE, shuffle=False)\n",
    "\n",
    "# implement your solution ABOVE\n",
    "\n",
    "tester.test('cl_iter', dataloader_cl_train, dataloader_cl_val, dataloader_cl_test)"
   ]
  },
  {
   "cell_type": "markdown",
   "metadata": {
    "id": "9xdtHfyrwexF"
   },
   "source": [
    "## **H**: A klasszifikációs neuronháló definiálása\n",
    "\n",
    "**Definiáld a klasszifikációs feladathoz alkalmazandó neuronhálót megvalósító osztályt**, mely a regressziós neuronhálót implementáló osztályhoz hasonlóan, az általános `torch.nn.Module` osztály leszármazottja! Példányosítsd az új osztályt és add értékül a `cl_model` nevű változónak a példányt!\n",
    "\n",
    "A klasszifikációs neuronháló **tartalmazzon 3 teljesen összekötött réteget! Az első kettő réteg tartalmazzon egyenként 30 és 20 neuront és alkalmazza a ReLU aktivációs függvényt a rétegek után!** Az utolsó réteget a háromkategóriás klasszifikációnak megfelelően kell kialakítani! Lásd a \"HF1 GYIK\" fórumot!"
   ]
  },
  {
   "cell_type": "code",
   "execution_count": 56,
   "metadata": {
    "colab": {
     "base_uri": "https://localhost:8080/"
    },
    "executionInfo": {
     "elapsed": 274,
     "status": "ok",
     "timestamp": 1711705210107,
     "user": {
      "displayName": "DarkLight19",
      "userId": "10102709299780904116"
     },
     "user_tz": -60
    },
    "id": "30Iwot3xxVXI",
    "outputId": "8f012acb-918e-4146-af71-13c196931d2c"
   },
   "outputs": [
    {
     "name": "stdout",
     "output_type": "stream",
     "text": [
      "Tester: Classification model architecture OK\n"
     ]
    }
   ],
   "source": [
    "# implement your solution BELOW\n",
    "\n",
    "class RegressionModelForH(torch.nn.Module):\n",
    "  def __init__(self, input_dim):\n",
    "        super().__init__()\n",
    "        self.linear_relu_layers = nn.Sequential(\n",
    "            nn.Linear(input_dim, 30),\n",
    "            nn.ReLU(),\n",
    "            nn.Linear(30, 20),\n",
    "            nn.ReLU(),\n",
    "            nn.Linear(20, 3)\n",
    "        )\n",
    "\n",
    "  def forward(self, x):\n",
    "      return self.linear_relu_layers(x)\n",
    "\n",
    "cl_model = RegressionModelForH(dataset.shape[1] - 3)\n",
    "\n",
    "# implement your solution ABOVE\n",
    "\n",
    "tester.test('cl_model_architecture', cl_model)"
   ]
  },
  {
   "cell_type": "markdown",
   "metadata": {
    "id": "7uowunGxa2Mq"
   },
   "source": [
    "## **I**: A háló betanítása (multi-class) klasszifikációs feladatra\n",
    "\n",
    "**Tanítsd be a** `cl_model` **neuronhálót** a tanítóhalmazon a `dataloader_cl_train` iterátor segítségével és alkalmazd a `dataloader_cl_val` iterátort a validációhoz!\n",
    "\n",
    "Alkalmazd a multi-class klasszifikációkor szokásosan használt **cross-entropy költséget**! **Mérd le minden epoch-ban a tanító- és a validációs halmazon mért költségeket, majd a tanítás végeztével rajzold ki ezeknek az értékeknek a tanítás során való alakulását egy közös grafikonon!** A grafikonon a jelmagyarázat meglétére és a görbék könnyű elkülöníthetőségére figyelj ezúttal is!\n",
    "\n",
    "A tanítást ezúttal az **early stopping** technika állítsa le! Amennyiben adott számú epoch-on keresztül (`patience`) nem javul a validációs költség, érjen véget a betanítás és **állítsuk vissza a `cl_model` súlyait abból az epoch-ból, amikor a legjobb volt a validációs költség!** Mindez automatikusan történjen!\n",
    "\n",
    "A betanítás végeztével **mérd le az átlagos költséget a teljes teszthalmazon** és add értékül a kapott számot a `test_ce` változónak!\n",
    "\n",
    "**Számold ki az _accuracy_ (pontosság) metrikát is a teszthalmaz elemein** és add értékül a kapott számot a `test_acc` változónak! Az _accuracy_ metrika a helyesen klasszifikált mintaelemek arányát adja meg. Például, ha 150 mintaelem kategóriájának becslésekor 75 esetben találtuk el a helyes kategóriát, az _accuracy_ értéke 0.5 lesz.\n",
    "\n",
    "Ezt követően, **válassz néhány mintaelemet a teszthalmazból** (például a `dataloader_cl_test` iterátor segítségével) és **adj becslést a címkéjükre** (a kategória indexére) az input változók értékei alapján, majd **írasd ki az egyes mintaelemekre a becsült és az igazi címkéjüket** (a kategóriák indexét)! Így példákon is láthatjuk, hogy mennyire ad jó becsléseket a neuronhálónk.\n",
    "\n",
    "Végezetül, **számold ki a háló teszthalmazon vett konfúziós mátrixát és rajzold ki azt**! A konfúziós mátrix egy k x k méretű mátrix k kategória esetén, ahol az `[i,j]` indexű elem megadja, hogy az adathalmazon a modellünk hány `i` kategóriába tartozó mintaelemet becsült a `j` kategóriába. A modellünk jó teljesítményét jelzi, ha minél több elem kerül a konfúziós mátrix főátlójába. A számoláshoz felhasználhatsz külső könyvtárat is, de NumPy-ban is megoldható. A kirajzoláshoz használható például a `matplotlib.pyplot` csomag `imshow` függvénye. Figyelj rá, hogy a grafikonon világosan látszon, hogy melyik tengely sorolja fel az igazi kategóriákat és melyik a becsült kategóriákat, látszanak a sorok és oszlopok végén a kategóriák indexei és a cellákban az odatartozó mintaelemek darabszáma!\n"
   ]
  },
  {
   "cell_type": "code",
   "execution_count": 57,
   "metadata": {
    "colab": {
     "base_uri": "https://localhost:8080/",
     "height": 1000
    },
    "executionInfo": {
     "elapsed": 1647,
     "status": "ok",
     "timestamp": 1711705213335,
     "user": {
      "displayName": "DarkLight19",
      "userId": "10102709299780904116"
     },
     "user_tz": -60
    },
    "id": "5v3_oyswb78-",
    "outputId": "63a02762-21aa-404b-c3d8-6450346e198c"
   },
   "outputs": [
    {
     "data": {
      "image/png": "[encoded data removed]",
      "text/plain": [
       "<Figure size 640x480 with 1 Axes>"
      ]
     },
     "metadata": {},
     "output_type": "display_data"
    },
    {
     "name": "stdout",
     "output_type": "stream",
     "text": [
      "Test metrics - CE: 1.0157164335250854, ACC: 0.5063291192054749\n",
      "Test sample #1, pred vs true label: 0 vs 1\n",
      "Test sample #2, pred vs true label: 0 vs 1\n",
      "Test sample #3, pred vs true label: 0 vs 1\n",
      "Test sample #4, pred vs true label: 0 vs 0\n",
      "Test sample #5, pred vs true label: 0 vs 0\n",
      "Test sample #6, pred vs true label: 0 vs 0\n",
      "Test sample #7, pred vs true label: 0 vs 0\n",
      "Test sample #8, pred vs true label: 0 vs 0\n",
      "Test sample #9, pred vs true label: 0 vs 0\n",
      "Test sample #10, pred vs true label: 0 vs 1\n"
     ]
    },
    {
     "data": {
      "image/png": "[encoded data removed]",
      "text/plain": [
       "<Figure size 640x480 with 1 Axes>"
      ]
     },
     "metadata": {},
     "output_type": "display_data"
    },
    {
     "name": "stdout",
     "output_type": "stream",
     "text": [
      "Tester: Classification model learning OK\n"
     ]
    }
   ],
   "source": [
    "# implement your solution BELOW\n",
    "\n",
    "# Kezdeti értékek:\n",
    "\n",
    "model_path = 'model.pth'\n",
    "torch.save(cl_model.state_dict, model_path)\n",
    "patience = 10\n",
    "no_improvement_count = 0\n",
    "#last_loss = 100_000\n",
    "min_loss = np.inf\n",
    "\n",
    "loss_fn = torch.nn.CrossEntropyLoss();\n",
    "learning_rate = 0.0005\n",
    "\n",
    "optimizer = torch.optim.RMSprop(cl_model.parameters(), lr=learning_rate)\n",
    "\n",
    "# Tanítás:\n",
    "\n",
    "global_train_losses = []\n",
    "global_val_losses = []\n",
    "\n",
    "while no_improvement_count < patience:\n",
    "  cl_model.train()\n",
    "\n",
    "  train_losses = []\n",
    "\n",
    "  for x,y in dataloader_cl_train:\n",
    "    optimizer.zero_grad()\n",
    "    guess = cl_model(x)\n",
    "    loss = loss_fn(guess, y)\n",
    "\n",
    "    train_losses.append(loss)\n",
    "\n",
    "    loss.backward()\n",
    "    optimizer.step()\n",
    "\n",
    "  train_losses = torch.tensor(train_losses)\n",
    "  global_train_losses.append(train_losses.mean())\n",
    "\n",
    "  cl_model.eval()\n",
    "\n",
    "  val_losses = []\n",
    "\n",
    "  for x,y in dataloader_cl_val:\n",
    "    with torch.no_grad():\n",
    "      guess = cl_model(x)\n",
    "    loss = loss_fn(guess, y)\n",
    "\n",
    "    val_losses.append(loss)\n",
    "\n",
    "  val_losses = torch.tensor(val_losses)\n",
    "  val_loss_mean = val_losses.mean()\n",
    "  global_val_losses.append(val_loss_mean)\n",
    "\n",
    "  if min_loss < val_loss_mean:\n",
    "    no_improvement_count += 1\n",
    "  else:\n",
    "    no_improvement_count = 0\n",
    "    torch.save(cl_model.state_dict, model_path)\n",
    "    min_loss = val_loss_mean\n",
    "\n",
    "\n",
    "cl_model.state_dict = torch.load(model_path)\n",
    "\n",
    "# Gráf + statisztikák:\n",
    "\n",
    "plt.plot(global_train_losses, label='Training')\n",
    "plt.plot(global_val_losses, label='Validation')\n",
    "plt.xlabel('Epochs')\n",
    "plt.ylabel('CE loss')\n",
    "plt.legend()\n",
    "plt.show()\n",
    "\n",
    "test_losses = []\n",
    "test_acc_list = []\n",
    "for x,y in dataloader_cl_test:\n",
    "    with torch.no_grad():\n",
    "      guess = cl_model(x)\n",
    "    loss = loss_fn(guess, y)\n",
    "    test_losses.append(loss)\n",
    "    for i in range(len(guess)):\n",
    "      test_acc_list.append(1 if torch.argmax(guess[i]) == y[i] else 0)\n",
    "\n",
    "test_losses = torch.tensor(test_losses)\n",
    "test_acc_list = torch.tensor(test_acc_list)\n",
    "\n",
    "test_ce = test_losses.mean()\n",
    "test_acc = test_acc_list.mean(dtype = torch.float32)\n",
    "\n",
    "print(\"Test metrics - CE: \", float(test_ce), \", ACC: \", float(test_acc), sep=\"\")\n",
    "\n",
    "# Példák randomizációval:\n",
    "batch_indices = list(range(len(dataloader_cl_test.dataset)))\n",
    "np.random.shuffle(batch_indices)\n",
    "\n",
    "example_count = 0\n",
    "for batch_idx in batch_indices:\n",
    "  x,y = dataloader_cl_test.dataset[batch_idx]\n",
    "  with torch.no_grad():\n",
    "    guess = cl_model(x)\n",
    "  for i in range(len(guess)):\n",
    "    if example_count >= 10:\n",
    "      break\n",
    "    example_count += 1\n",
    "    print(\"Test sample #\", example_count, \", pred vs true label: \", int(torch.argmax(guess[i])), \" vs \", int(y.item()), sep=\"\")\n",
    "  if example_count >= 10:\n",
    "    break\n",
    "\n",
    "# Konfúziós mátrix:\n",
    "\n",
    "matrix = np.zeros(9).reshape(3,3)\n",
    "\n",
    "for x, y in dataloader_cl_test:\n",
    "  for i in range(len(x)):\n",
    "    guess = torch.argmax(cl_model(x[i]))\n",
    "    matrix[y[i],guess] += 1\n",
    "\n",
    "plt.imshow(matrix, interpolation=\"none\", cmap=plt.cm.Blues)\n",
    "for (i,j), item in np.ndenumerate(matrix):\n",
    "  plt.text(i,j,int(item),ha=\"center\",va=\"center\")\n",
    "\n",
    "plt.xlabel(\"Predictions\")\n",
    "plt.ylabel(\"Actuals\")\n",
    "plt.show()\n",
    "\n",
    "# implement your solution ABOVE\n",
    "\n",
    "tester.test('cl_model_learning', test_ce, test_acc)"
   ]
  }
 ],
 "metadata": {
  "colab": {
   "provenance": [
    {
     "file_id": "19MKRKooxch5E8YxPQnxmeGTqKMNXZ1ER",
     "timestamp": 1710342445644
    }
   ]
  },
  "kernelspec": {
   "display_name": "Python 3 (ipykernel)",
   "language": "python",
   "name": "python3"
  },
  "language_info": {
   "codemirror_mode": {
    "name": "ipython",
    "version": 3
   },
   "file_extension": ".py",
   "mimetype": "text/x-python",
   "name": "python",
   "nbconvert_exporter": "python",
   "pygments_lexer": "ipython3",
   "version": "3.10.11"
  }
 },
 "nbformat": 4,
 "nbformat_minor": 4
}
