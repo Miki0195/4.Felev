{
 "cells": [
  {
   "cell_type": "code",
   "execution_count": 4,
   "metadata": {
    "id": "-syvNaNLeAdY",
    "tags": []
   },
   "outputs": [],
   "source": [
    "#!python rm games_genres.csv\n",
    "#!wget http://nipg12.inf.elte.hu/~vavsaai@nipg.lab/annbsc24_p1/files/games_genres.csv\n",
    "!powershell Invoke-WebRequest -Uri \"http://nipg12.inf.elte.hu/~vavsaai@nipg.lab/annbsc24_p1/files/games_genres.csv\" -OutFile \"games_genres.csv\"\n",
    "\n",
    "\n",
    "import numpy as np\n",
    "import pandas as pd"
   ]
  },
  {
   "cell_type": "code",
   "execution_count": 5,
   "metadata": {
    "colab": {
     "base_uri": "https://localhost:8080/",
     "height": 223
    },
    "id": "puLDc0bFeAdZ",
    "outputId": "df831f2c-18ec-4d47-9641-3be2024e4c11",
    "tags": []
   },
   "outputs": [
    {
     "data": {
      "text/html": [
       "<div>\n",
       "<style scoped>\n",
       "    .dataframe tbody tr th:only-of-type {\n",
       "        vertical-align: middle;\n",
       "    }\n",
       "\n",
       "    .dataframe tbody tr th {\n",
       "        vertical-align: top;\n",
       "    }\n",
       "\n",
       "    .dataframe thead th {\n",
       "        text-align: right;\n",
       "    }\n",
       "</style>\n",
       "<table border=\"1\" class=\"dataframe\">\n",
       "  <thead>\n",
       "    <tr style=\"text-align: right;\">\n",
       "      <th></th>\n",
       "      <th>Title</th>\n",
       "      <th>Team</th>\n",
       "      <th>Rating</th>\n",
       "      <th>Month</th>\n",
       "      <th>Year</th>\n",
       "      <th>Adventure</th>\n",
       "      <th>Shooter</th>\n",
       "      <th>MOBA</th>\n",
       "      <th>Strategy</th>\n",
       "    </tr>\n",
       "  </thead>\n",
       "  <tbody>\n",
       "    <tr>\n",
       "      <th>0</th>\n",
       "      <td>Elden Ring</td>\n",
       "      <td>Bandai Namco Entertainment, FromSoftware</td>\n",
       "      <td>4.5</td>\n",
       "      <td>2</td>\n",
       "      <td>2022</td>\n",
       "      <td>1</td>\n",
       "      <td>0</td>\n",
       "      <td>0</td>\n",
       "      <td>0</td>\n",
       "    </tr>\n",
       "    <tr>\n",
       "      <th>1</th>\n",
       "      <td>Hades</td>\n",
       "      <td>Supergiant Games</td>\n",
       "      <td>4.3</td>\n",
       "      <td>12</td>\n",
       "      <td>2019</td>\n",
       "      <td>1</td>\n",
       "      <td>0</td>\n",
       "      <td>0</td>\n",
       "      <td>0</td>\n",
       "    </tr>\n",
       "    <tr>\n",
       "      <th>2</th>\n",
       "      <td>The Legend of Zelda: Breath of the Wild</td>\n",
       "      <td>Nintendo, Nintendo EPD Production Group No. 3</td>\n",
       "      <td>4.4</td>\n",
       "      <td>3</td>\n",
       "      <td>2017</td>\n",
       "      <td>1</td>\n",
       "      <td>0</td>\n",
       "      <td>0</td>\n",
       "      <td>0</td>\n",
       "    </tr>\n",
       "    <tr>\n",
       "      <th>3</th>\n",
       "      <td>Undertale</td>\n",
       "      <td>tobyfox, 8-4</td>\n",
       "      <td>4.2</td>\n",
       "      <td>9</td>\n",
       "      <td>2015</td>\n",
       "      <td>1</td>\n",
       "      <td>0</td>\n",
       "      <td>0</td>\n",
       "      <td>0</td>\n",
       "    </tr>\n",
       "    <tr>\n",
       "      <th>4</th>\n",
       "      <td>Hollow Knight</td>\n",
       "      <td>Team Cherry</td>\n",
       "      <td>4.4</td>\n",
       "      <td>2</td>\n",
       "      <td>2017</td>\n",
       "      <td>1</td>\n",
       "      <td>0</td>\n",
       "      <td>0</td>\n",
       "      <td>0</td>\n",
       "    </tr>\n",
       "  </tbody>\n",
       "</table>\n",
       "</div>"
      ],
      "text/plain": [
       "                                     Title  \\\n",
       "0                               Elden Ring   \n",
       "1                                    Hades   \n",
       "2  The Legend of Zelda: Breath of the Wild   \n",
       "3                                Undertale   \n",
       "4                            Hollow Knight   \n",
       "\n",
       "                                            Team  Rating  Month  Year  \\\n",
       "0       Bandai Namco Entertainment, FromSoftware     4.5      2  2022   \n",
       "1                               Supergiant Games     4.3     12  2019   \n",
       "2  Nintendo, Nintendo EPD Production Group No. 3     4.4      3  2017   \n",
       "3                                   tobyfox, 8-4     4.2      9  2015   \n",
       "4                                    Team Cherry     4.4      2  2017   \n",
       "\n",
       "   Adventure  Shooter  MOBA  Strategy  \n",
       "0          1        0     0         0  \n",
       "1          1        0     0         0  \n",
       "2          1        0     0         0  \n",
       "3          1        0     0         0  \n",
       "4          1        0     0         0  "
      ]
     },
     "execution_count": 5,
     "metadata": {},
     "output_type": "execute_result"
    }
   ],
   "source": [
    "df = pd.read_csv('./games_genres.csv', index_col=0)\n",
    "df.drop_duplicates(subset=['Title'],inplace=True)\n",
    "df.head()[['Title', 'Team', 'Rating', 'Month', 'Year', 'Adventure', 'Shooter', 'MOBA', 'Strategy']]"
   ]
  },
  {
   "cell_type": "code",
   "execution_count": null,
   "metadata": {
    "id": "vHaQTPVceAda"
   },
   "outputs": [],
   "source": [
    "columns = df.columns.values\n",
    "titles = np.array(df['Title'], dtype=str)\n",
    "team = np.array(df['Team'], dtype=str)\n",
    "ratings = np.array(df['Rating'], dtype=np.float64)\n",
    "genres = np.array(df[df.columns.to_list()[5:]], dtype=bool)\n",
    "month_year = np.array(df[['Month', 'Year']], dtype=np.int64)"
   ]
  },
  {
   "cell_type": "code",
   "execution_count": null,
   "metadata": {
    "id": "GfAMsznf3nRD",
    "outputId": "cecc0211-b309-4f98-a0e9-dc6ec000c9dc"
   },
   "outputs": [
    {
     "data": {
      "text/plain": [
       "array(['Adventure', 'Arcade', 'Brawler', 'Card & Board Game', 'Fighting',\n",
       "       'Indie', 'MOBA', 'Music', 'Pinball', 'Platform', 'Point-and-Click',\n",
       "       'Puzzle', 'Quiz/Trivia', 'RPG', 'Racing', 'Real Time Strategy',\n",
       "       'Shooter', 'Simulator', 'Sport', 'Strategy', 'Tactical',\n",
       "       'Turn Based Strategy', 'Visual Novel'], dtype=object)"
      ]
     },
     "execution_count": 17,
     "metadata": {},
     "output_type": "execute_result"
    }
   ],
   "source": [
    "columns[5:]"
   ]
  },
  {
   "cell_type": "markdown",
   "metadata": {
    "id": "5uUv6JEleAdb"
   },
   "source": [
    "# Melyik játék kapta a legnagyobb értékelést?"
   ]
  },
  {
   "cell_type": "markdown",
   "metadata": {
    "id": "CgwQ2QAL3nRM"
   },
   "source": [
    "- np.max\n",
    "- elemenkénti összehasonlítás"
   ]
  },
  {
   "cell_type": "code",
   "execution_count": null,
   "metadata": {
    "id": "I2HintCi3nRP",
    "outputId": "fbd3276f-77af-42f6-dce4-b071f749790e"
   },
   "outputs": [
    {
     "data": {
      "text/plain": [
       "'Disco Elysium: The Final Cut'"
      ]
     },
     "execution_count": 18,
     "metadata": {},
     "output_type": "execute_result"
    }
   ],
   "source": [
    "titles[(np.max(ratings) == ratings)][0]"
   ]
  },
  {
   "cell_type": "markdown",
   "metadata": {
    "id": "-E9EN4zIeN9C"
   },
   "source": [
    "- np.argmax"
   ]
  },
  {
   "cell_type": "code",
   "execution_count": null,
   "metadata": {
    "id": "MYTqm5jXeAdd",
    "outputId": "07a19202-6449-41d7-a28d-b92dee2d80bc"
   },
   "outputs": [
    {
     "data": {
      "text/plain": [
       "'Disco Elysium: The Final Cut'"
      ]
     },
     "execution_count": 19,
     "metadata": {},
     "output_type": "execute_result"
    }
   ],
   "source": [
    "titles[np.argmax(ratings)]"
   ]
  },
  {
   "cell_type": "markdown",
   "metadata": {
    "id": "BOyFBKO8eAde"
   },
   "source": [
    "# Mi az értékelések átlaga két tizedesjegyre kerekítve?"
   ]
  },
  {
   "cell_type": "markdown",
   "metadata": {
    "id": "gH6wW3bKednh"
   },
   "source": [
    "- np.mean\n",
    "- np.sum\n",
    "- np.ndarray.size"
   ]
  },
  {
   "cell_type": "code",
   "execution_count": null,
   "metadata": {
    "id": "Qn1jxgmWeAdf",
    "outputId": "0942b81c-2850-43f0-b10a-a568ea83aa42"
   },
   "outputs": [
    {
     "data": {
      "text/plain": [
       "3.65"
      ]
     },
     "execution_count": 20,
     "metadata": {},
     "output_type": "execute_result"
    }
   ],
   "source": [
    "np.round(np.sum(ratings) / ratings.size, 2)"
   ]
  },
  {
   "cell_type": "code",
   "execution_count": null,
   "metadata": {
    "id": "555R6czueAde",
    "outputId": "75dc1d24-e68d-4c33-8350-a30c11b65d7c"
   },
   "outputs": [
    {
     "data": {
      "text/plain": [
       "3.65"
      ]
     },
     "execution_count": 21,
     "metadata": {},
     "output_type": "execute_result"
    }
   ],
   "source": [
    "np.round(np.mean(ratings), 2)"
   ]
  },
  {
   "cell_type": "markdown",
   "metadata": {
    "id": "UbGi6p1NeAdg"
   },
   "source": [
    "# Melyik játék tartozik a legtöbb kategóriába?"
   ]
  },
  {
   "cell_type": "markdown",
   "metadata": {
    "id": "nHBaMkYQejUo"
   },
   "source": [
    "- np.max\n",
    "- np.sum\n",
    "- np.argmax\n",
    "- indexing"
   ]
  },
  {
   "cell_type": "code",
   "execution_count": null,
   "metadata": {
    "id": "yUpZ3btceAdg",
    "outputId": "dc8c3412-0386-487a-c2c5-59538d9ae986"
   },
   "outputs": [
    {
     "data": {
      "text/plain": [
       "'Into the Breach'"
      ]
     },
     "execution_count": 22,
     "metadata": {},
     "output_type": "execute_result"
    }
   ],
   "source": [
    "m = np.max(np.sum(genres, axis=1))\n",
    "i = np.argmax(np.sum(genres, axis=1))\n",
    "titles[i]"
   ]
  },
  {
   "cell_type": "markdown",
   "metadata": {
    "id": "ZY_koTPkeAdg"
   },
   "source": [
    "# Melyek ezek a kategoriak?"
   ]
  },
  {
   "cell_type": "markdown",
   "metadata": {
    "id": "xz1YvLS1eo1Z"
   },
   "source": [
    "- masking\n",
    "- slicing"
   ]
  },
  {
   "cell_type": "code",
   "execution_count": null,
   "metadata": {
    "id": "ZTYpMKAveAdh",
    "outputId": "0b396494-f338-4177-d9fc-fdfb92f2f701"
   },
   "outputs": [
    {
     "data": {
      "text/plain": [
       "array(['Card & Board Game', 'Indie', 'Puzzle', 'RPG', 'Simulator',\n",
       "       'Strategy', 'Turn Based Strategy'], dtype=object)"
      ]
     },
     "execution_count": 23,
     "metadata": {},
     "output_type": "execute_result"
    }
   ],
   "source": [
    "columns[5:][genres[i]]"
   ]
  },
  {
   "cell_type": "markdown",
   "metadata": {
    "id": "qcRaOXEteAdd"
   },
   "source": [
    "# Melyik játék kapta a legkisebb értékelést a shooter kategóriában?"
   ]
  },
  {
   "cell_type": "markdown",
   "metadata": {
    "id": "SYiTI1VJeSDh"
   },
   "source": [
    "- np.argmin\n",
    "- masking\n",
    "- slicing\n",
    "- flatten"
   ]
  },
  {
   "cell_type": "code",
   "execution_count": null,
   "metadata": {
    "id": "IX0JukJAeAde",
    "outputId": "927846c2-ac8e-436d-bd65-6e9eb3bc10ad"
   },
   "outputs": [
    {
     "data": {
      "text/plain": [
       "'Superman: The New Superman Adventures'"
      ]
     },
     "execution_count": 24,
     "metadata": {},
     "output_type": "execute_result"
    }
   ],
   "source": [
    "shooter = genres[:,(columns[5:] == 'Shooter')].flatten()\n",
    "titles[shooter][np.argmin(ratings[shooter])]"
   ]
  },
  {
   "cell_type": "markdown",
   "metadata": {
    "id": "zUUfAk3LeAdh"
   },
   "source": [
    "# Melyik a top 5 játék, ami egyszerre Adventure, Shooter és Tactical kategóriába is tartozik?"
   ]
  },
  {
   "cell_type": "markdown",
   "metadata": {
    "id": "-yOUeHXUesj1"
   },
   "source": [
    "- masking\n",
    "- indexing\n",
    "- slicing, axis\n",
    "- flatten\n",
    "- array x array művelet\n",
    "- np.mean\n",
    "- np.argsort"
   ]
  },
  {
   "cell_type": "code",
   "execution_count": null,
   "metadata": {
    "id": "gJPDjjs_eAdh",
    "outputId": "9a2d8d7b-21fe-442f-9351-60b814ff38c1"
   },
   "outputs": [
    {
     "data": {
      "text/plain": [
       "array(['Metal Gear Solid 3: Subsistence', 'Hitman World of Assassination',\n",
       "       'Metal Gear Solid 3: Snake Eater', 'Hitman 3', 'Hitman 2'],\n",
       "      dtype='<U73')"
      ]
     },
     "execution_count": 25,
     "metadata": {},
     "output_type": "execute_result"
    }
   ],
   "source": [
    "adventure = genres[:,(columns[5:] == 'Adventure')].flatten()\n",
    "shooter = genres[:,(columns[5:] == 'Shooter')].flatten()\n",
    "tactical = genres[:,(columns[5:] == 'Tactical')].flatten()\n",
    "\n",
    "mask = adventure & shooter & tactical\n",
    "\n",
    "idxs = np.argsort(ratings[mask])[::-1]\n",
    "titles[mask][idxs][:5]"
   ]
  },
  {
   "cell_type": "markdown",
   "metadata": {
    "id": "-Yzg-HdveAdi"
   },
   "source": [
    "# Melyik a legkevésbé szeretett kategória?"
   ]
  },
  {
   "cell_type": "markdown",
   "metadata": {
    "id": "IYUsR07mfBTx"
   },
   "source": [
    "- np.sum axis mentén\n",
    "- ndarray.astype\n",
    "- np.newaxis vagy reshape\n",
    "- array x array művelet"
   ]
  },
  {
   "cell_type": "code",
   "execution_count": null,
   "metadata": {
    "id": "vCoW_n71eAdi",
    "outputId": "23ce85e8-1850-44b0-a07f-72891b426410"
   },
   "outputs": [
    {
     "data": {
      "text/plain": [
       "'MOBA'"
      ]
     },
     "execution_count": 27,
     "metadata": {},
     "output_type": "execute_result"
    }
   ],
   "source": [
    "n = np.sum(genres, axis=0)\n",
    "s = np.sum(ratings[:,np.newaxis] * genres.astype(np.int64), axis=0)\n",
    "\n",
    "genre_ratings = s / n\n",
    "\n",
    "columns[5:][np.argmin(genre_ratings)]"
   ]
  }
 ],
 "metadata": {
  "colab": {
   "provenance": []
  },
  "kernelspec": {
   "display_name": "Python 3 (ipykernel)",
   "language": "python",
   "name": "python3"
  },
  "language_info": {
   "codemirror_mode": {
    "name": "ipython",
    "version": 3
   },
   "file_extension": ".py",
   "mimetype": "text/x-python",
   "name": "python",
   "nbconvert_exporter": "python",
   "pygments_lexer": "ipython3",
   "version": "3.10.11"
  }
 },
 "nbformat": 4,
 "nbformat_minor": 4
}
