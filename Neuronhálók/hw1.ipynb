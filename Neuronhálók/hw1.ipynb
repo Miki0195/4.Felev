{
  "nbformat": 4,
  "nbformat_minor": 0,
  "metadata": {
    "colab": {
      "provenance": []
    },
    "kernelspec": {
      "name": "python3",
      "display_name": "Python 3"
    }
  },
  "cells": [
    {
      "cell_type": "markdown",
      "metadata": {
        "id": "UPNGQgO6aXtZ"
      },
      "source": [
        "# 1. házi feladat\n",
        "\n",
        "Az első házi feladat során egy egyszerű Multi-layer Perceptron (MLP) típusú neuronhálót kell betanítani és kiértékelni egy regressziós és egy klasszifikációs feladaton a PyTorch könyvtár segítségével.\n",
        "\n",
        "A házi feladat több részfeladatból áll (A - I), melyek egymásra épülnek. A feladat automatikus tesztelőszkripttel rendelkezik és vizsgálja az egyes részfeladatokra adott megoldások helyességét. Éppen ezért, **ne változtasd meg a notebook struktúráját**, ne szedd több részre, illetve ne módosítsd a megírt részeket, csak a megoldásaidat írd be a megfelelő helyre, különben nem fogjuk tudni értékelni! A megoldások az `# Implement your solution BELOW` és `# Implement your solution ABOVE` sorok közé írandók. Ha a megoldott részfeladatok futtatásakor a \"Tester: .... OK\" felirat megjelenik, _vélhetően_ jó a megoldás. Azonban, a tesztelőszkript nem képes a megoldás helyességét minden aspektus szerint ellenőrizni. Így elképzelhető, hogy beadás után további javításokat kérünk a megoldásban. A beadott házi feladatok gépi tanulás alapú plágiumellenőrzésen esnek át. Másolás gyanújának felmerülése esetén mind a másolat(ok), mind az azt/azokat ihlető eredeti megoldások visszautasíthatók.\n",
        "\n",
        "**!!! A feladatok megoldását, vagy az arra mutató linkeket bárhol közzétenni tilos !!!**\n",
        "\n",
        "Elakadás esetén javasolt átnézni a Canvason megosztott segédanyag notebookokat és az előadások anyagát. A Canvas fórumon \"HF1 GYIK\" névvel, a gyakori kérdéseket és válaszokat gyűjtjük össze. Továbbá, kérhető segítség az oktatóktól is, például a Teams rendszeren keresztül. Ehhez, kérjük a kurzus Canvas oldalán a legfelső modulban található _\"\n",
        "Teams beszélgetés indítása az oktatókkal\"_ linket használni: ez egy Teams beszélgetést kezdeményez az összes oktatóval egyidejűleg.\n",
        "\n",
        "**Megoldás és beküldés menete:**\n",
        "\n",
        "A közzétett, feladatokat tartalmazó Jupyter notebook a Google Drive-on keresztül lett megosztva, így a Google saját Jupyter notebook szerkesztője és futtatókörnyezete nyílik meg a linkre kattintáskor, a Google Colab. Ennek segítségével online szerkeszthető és futtatható a megosztott notebook. Mivel a notebook csak \"view\" jogosultságokkal van megosztva, a Google Colab az úgynevezett \"Playground\" módban nyitja azt meg, ahol bár szerkeszthető és futtatható a notebook, de a változtatások nem lesznek automatikusan mentve. A notebook maradandó hatásokkal járó szerkesztése az alábbi módokon lehetséges:\n",
        "- Ha online szeretnénk a notebookot szerkeszteni és futtatni a Google Colab segítségével, akkor le kell másolni azt a saját Drive tárhelyre (Google Colab file menü -> Save a copy to Drive), majd a másolatot kell megnyitni szerkesztésre.\n",
        "- A notebook le is tölthető és saját számítógépen is szerkeszthető / futtatható. Ehhez Python környezet megléte szükséges, valamint a notebookban importált Python csomagok és a `jupyterlab`, vagy `notebook` (https://jupyter.org/install) csomag telepítése szükséges a Python disztribúciónk csomagkezelőjével (`pip`, `conda`, stb.).\n",
        "\n",
        "A kész megoldást tartalmazó notebookot (.ipynb) fájlként kell feltölteni a Canvas-ban, a házi feladat beadási felületén.\n",
        "**Kérjük a notebook szerkezetét nem módosítani és nem szétszedni külön feladatok szerint!**\n",
        "\n",
        "**Határidő:** 2024. március 30., szombat, 23:59.\n",
        "\n",
        "**Késve legkésőbb leadható:** 2024. április 5., péntek, 23:59. - **Ezt követően pótlásra és/vagy javításra nincs lehetőség, ezáltal jegyszerzésre sem. !!!**\n",
        "\n",
        "**Értékelés:** A házi feladat helyes megoldása és oktatók által történő elfogadása feltétele a jegyszerzésnek. A házi feladat minősége részletesen pontozásra nem kerül, az értékelése kétfokozatú: megfelelt / nem felelt meg. Az első határidőig leadott nagyrészt helyes és nagyrészt teljes (\"megfelelt\") megoldásért 10 pont jár. Késés esetén ez elveszik.\n",
        "\n",
        "**Kikötés:** Ahol csak lehet, hatékony, vektorizált megoldásokat várunk. További részletekért lásd: Canvas, HF1 GYIK fórum, \"Használhatók-e Python ciklusok?\" bejegyzés."
      ]
    },
    {
      "cell_type": "markdown",
      "metadata": {
        "id": "dEKuTE7hGsZr"
      },
      "source": [
        "Tesztelő szkript letöltése, importok."
      ]
    },
    {
      "cell_type": "code",
      "metadata": {
        "id": "dc9fa3F-T0u5",
        "colab": {
          "base_uri": "https://localhost:8080/"
        },
        "outputId": "d49054f5-8ad4-4e8b-b0ba-79aa07da689f"
      },
      "source": [
        "# Download tester\n",
        "!rm annbsc24_p1_hw1_tester.py\n",
        "!wget https://nipg12.inf.elte.hu/~vavsaai@nipg.lab/annbsc24_p1/files/annbsc24_p1_hw1_tester.py\n",
        "\n",
        "import copy\n",
        "import numpy as np\n",
        "import torch\n",
        "import torch.nn as nn\n",
        "from torch.utils.data import Dataset, DataLoader, TensorDataset\n",
        "\n",
        "import matplotlib.pyplot as plt\n",
        "\n",
        "from annbsc24_p1_hw1_tester import Tester"
      ],
      "execution_count": 2,
      "outputs": [
        {
          "output_type": "stream",
          "name": "stdout",
          "text": [
            "rm: cannot remove 'annbsc24_p1_hw1_tester.py': No such file or directory\n",
            "--2024-03-29 08:50:53--  https://nipg12.inf.elte.hu/~vavsaai@nipg.lab/annbsc24_p1/files/annbsc24_p1_hw1_tester.py\n",
            "Resolving nipg12.inf.elte.hu (nipg12.inf.elte.hu)... 157.181.160.172\n",
            "Connecting to nipg12.inf.elte.hu (nipg12.inf.elte.hu)|157.181.160.172|:443... connected.\n",
            "HTTP request sent, awaiting response... 200 OK\n",
            "Length: 14778 (14K)\n",
            "Saving to: ‘annbsc24_p1_hw1_tester.py’\n",
            "\n",
            "annbsc24_p1_hw1_tes 100%[===================>]  14.43K  --.-KB/s    in 0.1s    \n",
            "\n",
            "2024-03-29 08:50:54 (130 KB/s) - ‘annbsc24_p1_hw1_tester.py’ saved [14778/14778]\n",
            "\n"
          ]
        }
      ]
    },
    {
      "cell_type": "markdown",
      "metadata": {
        "id": "BJ7TTytUaUwW"
      },
      "source": [
        "###**A**: Az adatbázis betöltése\n",
        "\n",
        "**Információ az adatbázisról**:\n",
        "Az adatbázis az UCI Machine Learning Repository-ról származik (http://archive.ics.uci.edu/ml/datasets/Student+Performance). Két portugál középiskolában tanuló diákok néhány adatát és a harmadév végi, év végi jegyeiket (0-20) tartalmazza. A házi feladat keretében, **neuronhálókkal próbálunk a diákok szociális és pénzügyi háttere alapján becsléseket adni az iskolai teljesítményükre.**\n",
        "\n",
        "A tesztelőszkript letölti a szöveges formában tárolt adatbázist és elhelyezi a `content` sztringben. Alább, kiírjuk a hosszát és az első 500 karaktert is a sztringből. Az adatbázis fájlok egy-egy sora adja meg az egy-egy mintaelemhez tartozó változók értékeit. A sorokban az egyes változókhoz tartozó értékek pontosvesszővel vannak elválasztva. Az adatbázis első sora a változók neveit tartalmazza.\n",
        "\n",
        "A feladatod, hogy **alakítsd át a `content` sztringet az adatbázis változóinak értékeit tartalmazó NumPy tömbbé.** A tömbök adattípusa np.float32 (lebegőpontos) legyen! A változók értékeit helyezd el a `dataset_noisy` (n_mintaelem, n_változó) alakú tömbben!  Az input változókat és címkéket később választjuk majd szét.\n",
        "\n",
        "Az adatbázis helyenként hiányzó értékeket tartalmaz: az adatok egy része nem volt elérhető az adatbázis rögzítésekor. Konkrétabban, a család méretét, a szülők együttélését és munkáját leíró oszlopokban találhatók hiányzó értékek. Ezek az ötödik (famsize), hatodik (Pstatus), kilencedik (Mjob) és tizedik (Fjob) oszlopokban találhatók. Hiányzó értékek esetén a `content` sztringben ténylegesen is hiányoznak a megfelelő pontosvesszők közt elhelyezkedő értékek, tehát ilyenkor két (vagy több) pontosvessző következik egymás után.\n",
        "\n",
        "A hiányzó értékeket kezelned kell és fel kell ismerned beolvasás közben: a hiányzó értékek helyére a `dataset_noisy` tömbben `np.nan` (Not-a-Number) értékek kell, hogy kerüljenek. A NaN értékek kezeléséről rövid útmutató található a Canvas-on, a HF1 GYIK fórum válaszai közt."
      ]
    },
    {
      "cell_type": "code",
      "metadata": {
        "id": "OdKqP5OvXJpX",
        "colab": {
          "base_uri": "https://localhost:8080/"
        },
        "outputId": "3cb2d516-8bcb-444c-e2b2-33cd8e47f923"
      },
      "source": [
        "tester = Tester()\n",
        "content = tester.get_dataset_content()\n",
        "\n",
        "print(\"Number of characters in dataset:\", len(content))\n",
        "print(content[:500])\n"
      ],
      "execution_count": 3,
      "outputs": [
        {
          "output_type": "stream",
          "name": "stdout",
          "text": [
            "Number of characters in dataset: 27388\n",
            "school;sex;age;address;famsize;Pstatus;Medu;Fedu;Mjob;Fjob;reason;guardian;traveltime;studytime;failures;schoolsup;famsup;paid;activities;nursery;higher;internet;romantic;famrel;freetime;goout;Dalc;Walc;health;absences;G1;G2;G3\n",
            "0;0;18;0;1;1;4;4;5;0;4;0;2;2;0;0;1;1;1;0;0;1;1;4;3;4;1;1;3;6;5;6;6\n",
            "0;0;17;0;1;0;1;1;5;3;4;1;1;2;0;1;0;1;1;1;0;0;1;5;3;3;1;1;3;4;5;5;6\n",
            "0;0;15;0;0;0;1;1;5;3;3;0;1;2;3;0;1;0;1;0;0;0;1;4;3;2;2;3;3;10;7;8;10\n",
            "0;0;15;0;1;0;4;2;;4;0;0;1;3;0;1;0;0;0;0;0;0;0;3;2;2;1;1;5;2;15;14;15\n",
            "\n"
          ]
        }
      ]
    },
    {
      "cell_type": "code",
      "metadata": {
        "id": "q_kfEC4sEMtw",
        "colab": {
          "base_uri": "https://localhost:8080/"
        },
        "outputId": "ed9f5680-492d-4211-c400-374035a876c7"
      },
      "source": [
        "# implement your solution BELOW\n",
        "lines = content.strip().split('\\n')\n",
        "variables = lines[0].split(';')\n",
        "dataset_noisy = np.genfromtxt(lines[1:], delimiter=';', dtype=np.float32)\n",
        "\n",
        "for i in range(dataset_noisy.shape[0]):\n",
        "    for j in range(dataset_noisy.shape[1]):\n",
        "        if np.isnan(dataset_noisy[i, j]):\n",
        "            dataset_noisy[i, j] = np.nan\n",
        "\n",
        "# Manual test\n",
        "# print(dataset_noisy)\n",
        "\n",
        "# implement your solution ABOVE\n",
        "\n",
        "tester.test('dataset_load', dataset_noisy)"
      ],
      "execution_count": 6,
      "outputs": [
        {
          "output_type": "stream",
          "name": "stdout",
          "text": [
            "Tester: Dataset loading OK\n"
          ]
        }
      ]
    },
    {
      "cell_type": "markdown",
      "source": [
        "## **B**: A hiányzó adat kezelése\n",
        "\n",
        "NaN értékekkel nem fogunk tudni tovább dolgozni, hiszen a legtöbb NumPy/PyTorch művelet nem támogatja őket és bármilyen tömbre, melyben legalább egy NaN érték található, ezen műveletek kimenete is NaN lesz, így például a neuronhálónk becslése és költsége is. Utóbbi megakadályozza, hogy a hálót gradiens módszerrel optimalizáljuk. Éppen ezért, a hiányzó adatokat reprezentáló NaN értékeket az alábbi módon fogjuk eltüntetni:\n",
        "\n",
        "**Hozz létre minden NaN értéket tartalmazó változóhoz egy-egy újabb változót, melyek azt jelzik, hogy valódi érték található-e az adott változóban az adott mintaelemnél, vagy nem!** Valódi érték esetén az új változó kapjon 1 értéket, NaN esetén pedig 0 értéket! Helyezd el az eredeti adatot és az új változókat a `dataset` tömbben: az új változók oszlopai kerüljenek megfelelő sorrendben az összes eredeti változót tartalmazó oszlop **után**! Az előző feladat leírásában említésre került, hogy melyik oszlopok tartalmazhatnak NaN értékeket.</br>\n",
        "Mivel a 33 változós adatbázisunk #4, #5, #8 és #9 indexű oszlopai (változói) tartalmazhatnak NaN értékeket, akkor az új `dataset` tömbünk 37 változós lesz és a négy új változó az utolsó négy oszlopba kerül. Például tehát, a #33 indexű oszlopban egy adott sorba nullás érték kerül, ha a #4-es oszlopban annál a sornál NaN található, egyébként pedig 1-es érték kerül oda. Hasonlóan készítjük el a #34, #35, #36 indexű oszlopokat az #5, #8 és #9 indexű oszlopok alapján.\n",
        "\n",
        "Végül, **helyettesítsd** az így elkészült **tömb összes NaN értékét nullával!**\n"
      ],
      "metadata": {
        "id": "h742EV1H38vK"
      }
    },
    {
      "cell_type": "code",
      "source": [
        "# implement your solution BELOW\n",
        "rows, cols = dataset_noisy.shape\n",
        "new_cols = np.zeros((rows, 4), dtype=np.float32)\n",
        "\n",
        "nan_masks = np.isnan(dataset_noisy[:, [4, 5, 8, 9]])\n",
        "\n",
        "new_cols[:, 0] = np.where(nan_masks[:, 0], 0, 1)\n",
        "new_cols[:, 1] = np.where(nan_masks[:, 1], 0, 1)\n",
        "new_cols[:, 2] = np.where(nan_masks[:, 2], 0, 1)\n",
        "new_cols[:, 3] = np.where(nan_masks[:, 3], 0, 1)\n",
        "\n",
        "dataset = np.hstack((dataset_noisy, new_cols))\n",
        "\n",
        "dataset[np.isnan(dataset)] = 0\n",
        "\n",
        "# Manual test\n",
        "# print(dataset)\n",
        "# implement your solution ABOVE\n",
        "\n",
        "tester.test('dataset_fill_missing', dataset)"
      ],
      "metadata": {
        "id": "tqx3YTmF4KGT",
        "colab": {
          "base_uri": "https://localhost:8080/"
        },
        "outputId": "96bb9795-f9e9-4065-827d-0b7e6cbd07a7"
      },
      "execution_count": 51,
      "outputs": [
        {
          "output_type": "stream",
          "name": "stdout",
          "text": [
            "Tester: Dataset loading OK\n"
          ]
        }
      ]
    },
    {
      "cell_type": "markdown",
      "metadata": {
        "id": "KrE7NLJTR7Aq"
      },
      "source": [
        "## **C**: Tanító-, validációs- és teszthalmaz szétválasztása\n",
        "\n",
        "**Keverd meg véletlenszerűen a mintaelemeket** a `dataset` tömbben! Ezt általánosságban azért célszerű megtenni, mert az adatbázisban az elemek valamilyen tulajdonságaik alapján rendezve lehetnek. Megkeverés nélkül, a szétválasztott halmazokban jelentősen különbözne a címkék eloszlása.\n",
        "\n",
        "Ezt követően **válaszd szét a tömböt tanító-, validációs- és teszthalmazra**, 60%, 20%, 20% arányban! A halmazokat tartalmazó három tömböt nevezd el `dataset_split_train`, `dataset_split_val`, `dataset_split_test`-nek, sorrendben!"
      ]
    },
    {
      "cell_type": "code",
      "source": [
        "# implement your solution BELOW\n",
        "# Shuffle the dataset randomly\n",
        "np.random.seed(42)\n",
        "np.random.shuffle(dataset)\n",
        "\n",
        "# Calculate the sizes of train, validation, and test sets\n",
        "n_samples = len(dataset)\n",
        "train_size = int(0.6 * n_samples)\n",
        "val_size = int(0.2 * n_samples)\n",
        "\n",
        "# Split the dataset into train, validation, and test sets\n",
        "dataset_split_train = dataset[:train_size]\n",
        "dataset_split_val = dataset[train_size:train_size + val_size]\n",
        "dataset_split_test = dataset[train_size + val_size:]\n",
        "\n",
        "# Manual test\n",
        "# print(\"Train set:\", dataset_split_train)\n",
        "# print(\"Validation set:\", dataset_split_val)\n",
        "# print(\"Test set:\", dataset_split_test)\n",
        "# implement your solution ABOVE\n",
        "\n",
        "tester.test('dataset_split', dataset_split_train, dataset_split_val, dataset_split_test)"
      ],
      "metadata": {
        "id": "VlPL_GE2xcR1",
        "colab": {
          "base_uri": "https://localhost:8080/"
        },
        "outputId": "4c05012e-3f92-4027-f471-83cbb4ae28a3"
      },
      "execution_count": 52,
      "outputs": [
        {
          "output_type": "stream",
          "name": "stdout",
          "text": [
            "Tester: Dataset split OK\n"
          ]
        }
      ]
    },
    {
      "cell_type": "markdown",
      "source": [
        "## **D**: Az adat-iterátorok létrehozása a regressziós feladathoz\n",
        "\n",
        "A neuronhálók gradiens módszeres betanítását a legtöbbször iterátorokkal valósítjuk meg, melyek bejárják az adatbázisunkat és előállítják a neuronhálók tanításához szükséges input és címke kötegeket. A regressziós feladat során a becsülendő címkeváltozó a diákok év végi jegye lesz (`G3` nevű oszlop az eredeti adatbázis szövegfájlban - ez a 32-es indexű oszlop), míg az input változókat az összes többi attribútum adja, beleértve az újonnan előállított négy változót is.\n",
        "\n",
        "Ebben a részfeladatban **elő kell állítanod három iterátor objektumot** `dataloader_reg_train`, `dataloader_reg_val`, `dataloader_reg_test` néven, melyek az előző részfeladatban elkészített tanító-, validációs- és teszthalmazokat tartalmazó tömböket járják be. **Az iterátorok minden lépésben két tenzort adnak vissza**, melyek egy-egy kötegnyi input és címke adatot tárolnak el. A visszaadott tenzorok alakja tehát `(batch_size, 36)` és `(batch_size, 1)` lesz. Utóbbi (a címkéket tartalmazó tenzor) a diákok év végi jegyeit fogja tartalmazni, előbbi pedig az adatbázis összes többi változójának értékét a megfelelő mintaelemekre. `batch_size` a mintaelemek számát adja meg, melyeket egyszerre, egy kötegben fog megkapni a neuronhálónk - ennek értéke lehet például 32.\n",
        "\n",
        "Hangsúlyozandó, hogy az iterátorok a fent említett NumPy tömbökből (`np.ndarray`) nyert mintaelem-kötegeket már `torch.tensor` típusú objektumokként adják vissza (pontosabban, kételemű tuple-öket adnak vissza, melyekben `torch.tensor` objektumok lesznek). A PyTorch-al definiált neuronhálók betanításához már mindenképp PyTorch tenzorok szükségesek. A tenzorok **adattípusa** 4 bájtos lebegőpontos típus (`torch.float32`) legyen!\n",
        "\n",
        "A **tanító és validációs halmazt felsoroló iterátorok járják be véletlen sorrendben** a hozzájuk tartozó mintaelemeket! A teszt halmazt felsoroló iterátor ne változtasson a `dataset_split_test` tömb sorrendjén!\n",
        "\n",
        "Az iterátorok implementációja többféleképpen megoldható, de javasolt a `torch.utils.data` modul `Dataset` és `DataLoader` osztályait felhasználni, vagy szükség esetén származtatni őket."
      ],
      "metadata": {
        "id": "jCQKy2XL_yEx"
      }
    },
    {
      "cell_type": "code",
      "metadata": {
        "id": "ls4niplvUgQ6",
        "colab": {
          "base_uri": "https://localhost:8080/"
        },
        "outputId": "674d76d7-1aaf-402b-e81f-2b91bf1bf061"
      },
      "source": [
        "# implement your solution BELOW\n",
        "g3_column_index = variables.index('G3')\n",
        "\n",
        "# Extracting features and labels, excluding the G3 column\n",
        "train_inputs = torch.tensor(np.delete(dataset_split_train, g3_column_index, axis=1), dtype=torch.float32)\n",
        "train_labels = torch.tensor(dataset_split_train[:, g3_column_index], dtype=torch.float32).view(-1, 1)\n",
        "val_inputs = torch.tensor(np.delete(dataset_split_val, g3_column_index, axis=1), dtype=torch.float32)\n",
        "val_labels = torch.tensor(dataset_split_val[:, g3_column_index], dtype=torch.float32).view(-1, 1)\n",
        "test_inputs = torch.tensor(np.delete(dataset_split_test, g3_column_index, axis=1), dtype=torch.float32)\n",
        "test_labels = torch.tensor(dataset_split_test[:, g3_column_index], dtype=torch.float32).view(-1, 1)\n",
        "\n",
        "train_dataset = TensorDataset(train_inputs, train_labels)\n",
        "val_dataset = TensorDataset(val_inputs, val_labels)\n",
        "test_dataset = TensorDataset(test_inputs, test_labels)\n",
        "\n",
        "batch_size = 32\n",
        "\n",
        "dataloader_reg_train = DataLoader(train_dataset, batch_size=batch_size, shuffle=True)\n",
        "dataloader_reg_val = DataLoader(val_dataset, batch_size=batch_size, shuffle=True)\n",
        "dataloader_reg_test = DataLoader(test_dataset, batch_size=batch_size, shuffle=False)\n",
        "# implement your solution ABOVE\n",
        "\n",
        "tester.test('reg_iter', dataloader_reg_train, dataloader_reg_val, dataloader_reg_test)"
      ],
      "execution_count": 53,
      "outputs": [
        {
          "output_type": "stream",
          "name": "stdout",
          "text": [
            "Tester: Dataset iterators for regression task OK\n"
          ]
        }
      ]
    },
    {
      "cell_type": "markdown",
      "metadata": {
        "id": "dohOMs4NlVXG"
      },
      "source": [
        "## **E**: A regressziós neuronháló definiálása\n",
        "\n",
        "**Definiáld a regressziós feladathoz alkalmazandó neuronhálót megvalósító osztályt**, mely az általános `torch.nn.Module` osztály leszármazottja, majd példányosítsd azt és add értékül a `reg_model` nevű változónak a példányt!\n",
        "\n",
        "A regressziós neuronháló **tartalmazzon 3 teljesen összekötött réteget, sorban 30, 20 és 1 neuronnal és alkalmazza a ReLU aktivációs függvényt a rétegek között!**\n",
        "\n",
        "Az új osztálynak mindenképpen meg kell valósítania a `forward(self, x)` tagfüggvényt, mely a neuronhálót (hipotézisfüggvényt) az `x` input tenzorra kiértékeli. A `forward` függvény fogja majd az előbb definiált adat-iterátorból érkező input tenzorokat megkapni és előállítani belőle a címkebecsléseket. Az osztály konstruktorában célszerű a neuronhálónk rétegeit inicializálni."
      ]
    },
    {
      "cell_type": "code",
      "metadata": {
        "id": "rAywpNOml4VL",
        "colab": {
          "base_uri": "https://localhost:8080/"
        },
        "outputId": "da572540-8dc9-4f24-a3a6-9086c87192d5"
      },
      "source": [
        "# implement your solution BELOW\n",
        "\n",
        "class RegressionModel(nn.Module):\n",
        "    def __init__(self):\n",
        "        super().__init__()\n",
        "        self.linear_relu_layers = nn.Sequential(\n",
        "            nn.Linear(36, 30),\n",
        "            nn.ReLU(),\n",
        "            nn.Linear(30, 20),\n",
        "            nn.ReLU(),\n",
        "            nn.Linear(20, 1))\n",
        "\n",
        "    def forward(self, x):\n",
        "      return self.linear_relu_layers(x)\n",
        "\n",
        "reg_model = RegressionModel()\n",
        "# implement your solution ABOVE\n",
        "\n",
        "tester.test('reg_model_architecture', reg_model)"
      ],
      "execution_count": 54,
      "outputs": [
        {
          "output_type": "stream",
          "name": "stdout",
          "text": [
            "Tester: Regression model architecture OK\n"
          ]
        }
      ]
    },
    {
      "cell_type": "markdown",
      "metadata": {
        "id": "Pz4fFtBUhUXV"
      },
      "source": [
        "## **F**: A háló betanítása regressziós feladatra\n",
        "\n",
        "**Tanítsd be a** `reg_model` **neuronhálót** a tanítóhalmazon a `dataloader_reg_train` iterátor segítségével és alkalmazd a `dataloader_reg_val` iterátort a validációhoz! Az iterátorok egyetlen (akár véletlen sorrendben történő) végighaladása a tanító és validációs adathalmazokon határoz meg egy _epoch_-ot.\n",
        "\n",
        "Alkalmazd a regressziókor szokásosan használt **\"átlagos négyzetes eltérés\" költséget**! **Mérd le minden epoch-ban a tanító- és a validációs halmazon mért költségeket, majd a tanítás végeztével rajzold ki ezeknek az értékeknek a tanítás során való alakulását egy közös grafikonon!** A grafikonok kirajzolásához használhatod például a `matplotlib` könyvtárat. Figyelj rá, hogy a grafikonon jól látszódjanak a görbék közti eltérések a tanítás végén is! Ha szükséges, beállíthatod ehhez kézzel, hogy az y tengely melyik részét mutassa a grafikon. **A grafikonon legyen jelmagyarázat** (legend), mely megmutatja, melyik görbe írja le a tanítási költséget és melyik a validációs költséget!\n",
        "\n",
        "Azt, hogy a tanítás meddig tartson (az epoch-ok számát) megadhatod kézzel is, a validációs költség alakulása alapján: próbáld úgy megadni, hogy a neuronháló lehetőleg jól betanult legyen, de súlyos túltanulás még ne jelenjen meg!\n",
        "\n",
        "A betanításhoz válassz egy gradiens módszer alapú **optimalizációs algoritmust** a `torch.optim` modulból (pl. `SGD`, `Adam`, `RMSprop`, stb.), majd válassz egy megfelelő **tanulási rátát** is!\n",
        "\n",
        "A betanítás végeztével **mérd le az átlagos költséget a teljes teszthalmazon** és add értékül a kapott számot a `test_mse` változónak!\n",
        "\n",
        "Ezt követően, **válassz néhány mintaelemet a teszthalmazból** (például a `dataloader_reg_test` iterátor segítségével) és **adj becslést a címkéjükre** az input változók értékei alapján, majd **írasd ki az egyes mintaelemekre a becsült és az igazi címkéjüket!** Így példákon is láthatjuk, hogy mennyire ad jó becsléseket a neuronhálónk.\n",
        "\n"
      ]
    },
    {
      "cell_type": "code",
      "source": [
        "# implement your solution BELOW\n",
        "import random\n",
        "\n",
        "criterion = nn.MSELoss()\n",
        "\n",
        "optimizer = torch.optim.Adam(reg_model.parameters(), lr=0.001)\n",
        "\n",
        "num_epochs = 100\n",
        "train_losses = []\n",
        "val_losses = []\n",
        "\n",
        "for epoch in range(num_epochs):\n",
        "    reg_model.train()\n",
        "    train_loss = 0.0\n",
        "    for inputs, targets in dataloader_reg_train:\n",
        "        optimizer.zero_grad()\n",
        "        outputs = reg_model(inputs)\n",
        "        loss = criterion(outputs, targets)\n",
        "        loss.backward()\n",
        "        optimizer.step()\n",
        "        train_loss += loss.item() * inputs.size(0)\n",
        "    train_loss /= len(dataloader_reg_train.dataset)\n",
        "    train_losses.append(train_loss)\n",
        "\n",
        "    reg_model.eval()\n",
        "    val_loss = 0.0\n",
        "    with torch.no_grad():\n",
        "        for inputs, targets in dataloader_reg_val:\n",
        "            outputs = reg_model(inputs)\n",
        "            loss = criterion(outputs, targets)\n",
        "            val_loss += loss.item() * inputs.size(0)\n",
        "        val_loss /= len(dataloader_reg_val.dataset)\n",
        "        val_losses.append(val_loss)\n",
        "\n",
        "    # print(f'Epoch {epoch+1}/{num_epochs}, Train Loss: {train_loss}, Val Loss: {val_loss}')\n",
        "\n",
        "# Plot training and validation losses\n",
        "plt.plot(range(1, num_epochs+1), train_losses, label='Train Loss')\n",
        "plt.plot(range(1, num_epochs+1), val_losses, label='Val Loss')\n",
        "plt.xlabel('Epoch')\n",
        "plt.ylabel('Loss')\n",
        "plt.ylim(0,15)\n",
        "plt.legend()\n",
        "plt.title('Training and Validation Losses')\n",
        "plt.show()\n",
        "\n",
        "test_losses = []\n",
        "reg_model.eval()\n",
        "with torch.no_grad():\n",
        "    for inputs, targets in dataloader_reg_test:\n",
        "        outputs = reg_model(inputs)\n",
        "        loss = criterion(outputs, targets)\n",
        "        test_losses.append(loss.item())\n",
        "test_mse = sum(test_losses) / len(test_losses)\n",
        "print('Average MSE on Test Set:', test_mse)\n",
        "\n",
        "num_samples = 10\n",
        "\n",
        "num_test_samples = len(dataloader_reg_test.dataset)\n",
        "\n",
        "random_indices = random.sample(range(num_test_samples), num_samples)\n",
        "\n",
        "for i, idx in enumerate(random_indices):\n",
        "    inputs, targets = dataloader_reg_test.dataset[idx]\n",
        "    inputs = inputs.unsqueeze(0)\n",
        "    outputs = reg_model(inputs)\n",
        "    print('Random Sample', i+1, 'Prediction:', outputs.item(), 'True Label:', targets.item())\n",
        "\n",
        "# implement your solution ABOVE\n",
        "\n",
        "tester.test('reg_model_learning', test_mse)"
      ],
      "metadata": {
        "id": "ReFyxJXAzcx5",
        "colab": {
          "base_uri": "https://localhost:8080/",
          "height": 676
        },
        "outputId": "b08d950d-431d-49bb-fa06-2b18d9eafa9e"
      },
      "execution_count": 55,
      "outputs": [
        {
          "output_type": "display_data",
          "data": {
            "text/plain": [
              "<Figure size 640x480 with 1 Axes>"
            ],
            "image/png": "[encoded data removed]"
          },
          "metadata": {}
        },
        {
          "output_type": "stream",
          "name": "stdout",
          "text": [
            "Average MSE on Test Set: 3.4302040338516235\n",
            "Random Sample 1 Prediction: 12.534721374511719 True Label: 12.0\n",
            "Random Sample 2 Prediction: 14.797840118408203 True Label: 15.0\n",
            "Random Sample 3 Prediction: 3.0130581855773926 True Label: 6.0\n",
            "Random Sample 4 Prediction: 8.526655197143555 True Label: 10.0\n",
            "Random Sample 5 Prediction: 5.993547439575195 True Label: 8.0\n",
            "Random Sample 6 Prediction: 12.540822982788086 True Label: 14.0\n",
            "Random Sample 7 Prediction: 8.733139991760254 True Label: 0.0\n",
            "Random Sample 8 Prediction: 6.760084629058838 True Label: 0.0\n",
            "Random Sample 9 Prediction: 10.789671897888184 True Label: 11.0\n",
            "Random Sample 10 Prediction: 0.3929440379142761 True Label: 0.0\n",
            "Tester: Regression model learning OK\n"
          ]
        }
      ]
    },
    {
      "cell_type": "markdown",
      "metadata": {
        "id": "pTBqUmDzPiYI"
      },
      "source": [
        "## **G**: Az adat-iterátorok létrehozása a klasszifikációs feladathoz\n",
        "\n",
        "Hasonlóan a D) feladathoz, itt is három adat-iterátort kell létrehoznunk, azonban ezúttal egy kissé eltérő feladatot fogunk megtanulni megoldani, így a visszaadott tenzorok alakja / adattípusa is eltérő lesz. **Állítsd elő** a `dataloader_cl_train`, `dataloader_cl_val`, `dataloader_cl_test` nevű **iterátorokat**, melyek ugyancsak a C) részfeladatban elkészült tanító-, validációs- és teszthalmazokat tartalmazó tömböket járják be! A klasszifikációs feladatban input változókként az összes változót felhasználjuk az adatbázisban, kivéve a három harmadév végi jegyét a diákoknak (`G1`, `G2`, `G3` nevű, #30, #31 és #32 indexű oszlopok az eredeti adatbázis szövegfájlban). Címkeként három kategóriát definiálunk és az összes diákot besoroljuk ezekbe a kategóriákba:\n",
        "- **\"Gyengén teljesítő diákok\"** kategória, #0 kategóriaindex: azon diákok kerülnek ide, akik átlagos jegye kisebb, mint 9.5.\n",
        "- **\"Közepesen teljesítő diákok\"** kategória, #1 kategóriaindex: azon diákok kerülnek ide, akik legnagyobb jegye kisebb, mint 14, de nem tartoznak a \"Gyengén teljesítő diákok\" közé.\n",
        "- **\"Jól teljesítő diákok\"** kategória, #2 kategóriaindex: azon diákok kerülnek ide, akik nem tartoznak a másik két kategóriába.\n",
        "\n",
        "A fentiek alapján az iterátorok által visszaadott tenzorok alakja `(batch_size, 34)` és `(batch_size,)` lesz. Utóbbi (a címkéket tartalmazó tenzor) a diákok kategóriaindexét fogja tartalmazni (azaz 0, 1, vagy 2 értékeket, `torch.int64` adattípusban), előbbi pedig az adatbázis összes felhasznált változójának értékét a megfelelő mintaelemekre `torch.float32` adattípusban. `batch_size` ezúttal is a mintaelemek számát adja meg, ez kézzel beállítandó.\n",
        "\n",
        "A **tanító és validációs halmazt felsoroló iterátorok véletlen sorrendben járják be** a hozzájuk tartozó mintaelemeket! A teszt halmazt felsoroló iterátor ne változtasson a `dataset_split_test` tömb sorrendjén!"
      ]
    },
    {
      "cell_type": "code",
      "source": [
        "# implement your solution BELOW\n",
        "def find_variable_index(variables, target_variable):\n",
        "    return variables.index(target_variable) if target_variable in variables else None\n",
        "\n",
        "g1_column_index = find_variable_index(variables, 'G1')\n",
        "g2_column_index = find_variable_index(variables, 'G2')\n",
        "g3_column_index = find_variable_index(variables, 'G3')\n",
        "\n",
        "def create_dataset_for_classification(array, g1_column_index, g2_column_index, g3_column_index):\n",
        "    target_list = []\n",
        "    features_list = []\n",
        "    for item in array:\n",
        "        avg = (item[g1_column_index] + item[g2_column_index] + item[g3_column_index]) / 3.0\n",
        "        if avg < 9.5:\n",
        "            target_list.append(0)\n",
        "        elif avg < 14:\n",
        "            target_list.append(1)\n",
        "        else:\n",
        "            target_list.append(2)\n",
        "\n",
        "        features = np.delete(item, [g1_column_index, g2_column_index, g3_column_index])\n",
        "        features_list.append(features)\n",
        "\n",
        "    target_tensor = torch.tensor(target_list, dtype=torch.int64)\n",
        "    features_tensor = torch.tensor(np.array(features_list), dtype=torch.float32)\n",
        "    return torch.utils.data.TensorDataset(features_tensor, target_tensor)\n",
        "\n",
        "train_dataset_for_cl = create_dataset_for_classification(dataset_split_train, g1_column_index, g2_column_index, g3_column_index)\n",
        "val_dataset_for_cl = create_dataset_for_classification(dataset_split_val, g1_column_index, g2_column_index, g3_column_index)\n",
        "test_dataset_for_cl = create_dataset_for_classification(dataset_split_test, g1_column_index, g2_column_index, g3_column_index)\n",
        "\n",
        "batch_size = 32\n",
        "\n",
        "dataloader_cl_train = DataLoader(train_dataset_for_cl, batch_size=batch_size, shuffle=True)\n",
        "dataloader_cl_val = DataLoader(val_dataset_for_cl, batch_size=batch_size, shuffle=True)\n",
        "dataloader_cl_test = DataLoader(test_dataset_for_cl, batch_size=batch_size, shuffle=False)\n",
        "\n",
        "# implement your solution ABOVE\n",
        "\n",
        "tester.test('cl_iter', dataloader_cl_train, dataloader_cl_val, dataloader_cl_test)"
      ],
      "metadata": {
        "id": "I4QacNSQAhdz",
        "colab": {
          "base_uri": "https://localhost:8080/"
        },
        "outputId": "268536b9-e183-4449-f5d5-dec6fde1257d"
      },
      "execution_count": 57,
      "outputs": [
        {
          "output_type": "stream",
          "name": "stdout",
          "text": [
            "Tester: Dataset iterators for classification task OK\n"
          ]
        }
      ]
    },
    {
      "cell_type": "markdown",
      "metadata": {
        "id": "9xdtHfyrwexF"
      },
      "source": [
        "## **H**: A klasszifikációs neuronháló definiálása\n",
        "\n",
        "**Definiáld a klasszifikációs feladathoz alkalmazandó neuronhálót megvalósító osztályt**, mely a regressziós neuronhálót implementáló osztályhoz hasonlóan, az általános `torch.nn.Module` osztály leszármazottja! Példányosítsd az új osztályt és add értékül a `cl_model` nevű változónak a példányt!\n",
        "\n",
        "A klasszifikációs neuronháló **tartalmazzon 3 teljesen összekötött réteget! Az első kettő réteg tartalmazzon egyenként 30 és 20 neuront és alkalmazza a ReLU aktivációs függvényt a rétegek után!** Az utolsó réteget a háromkategóriás klasszifikációnak megfelelően kell kialakítani! Lásd a \"HF1 GYIK\" fórumot!"
      ]
    },
    {
      "cell_type": "code",
      "metadata": {
        "id": "30Iwot3xxVXI",
        "colab": {
          "base_uri": "https://localhost:8080/"
        },
        "outputId": "9119b72f-65ed-4d96-c044-cd3ebc407591"
      },
      "source": [
        "# implement your solution BELOW\n",
        "\n",
        "class ClassificationModel(nn.Module):\n",
        "    def __init__(self):\n",
        "        super().__init__()\n",
        "        self.linear_relu_layers = nn.Sequential(\n",
        "            nn.Linear(34, 30),\n",
        "            nn.ReLU(),\n",
        "            nn.Linear(30, 20),\n",
        "            nn.ReLU(),\n",
        "            nn.Linear(20, 3))\n",
        "\n",
        "    def forward(self, x):\n",
        "      return self.linear_relu_layers(x)\n",
        "\n",
        "cl_model = ClassificationModel()\n",
        "\n",
        "# implement your solution ABOVE\n",
        "\n",
        "tester.test('cl_model_architecture', cl_model)"
      ],
      "execution_count": 58,
      "outputs": [
        {
          "output_type": "stream",
          "name": "stdout",
          "text": [
            "Tester: Classification model architecture OK\n"
          ]
        }
      ]
    },
    {
      "cell_type": "markdown",
      "metadata": {
        "id": "7uowunGxa2Mq"
      },
      "source": [
        "## **I**: A háló betanítása (multi-class) klasszifikációs feladatra\n",
        "\n",
        "**Tanítsd be a** `cl_model` **neuronhálót** a tanítóhalmazon a `dataloader_cl_train` iterátor segítségével és alkalmazd a `dataloader_cl_val` iterátort a validációhoz!\n",
        "\n",
        "Alkalmazd a multi-class klasszifikációkor szokásosan használt **cross-entropy költséget**! **Mérd le minden epoch-ban a tanító- és a validációs halmazon mért költségeket, majd a tanítás végeztével rajzold ki ezeknek az értékeknek a tanítás során való alakulását egy közös grafikonon!** A grafikonon a jelmagyarázat meglétére és a görbék könnyű elkülöníthetőségére figyelj ezúttal is!\n",
        "\n",
        "A tanítást ezúttal az **early stopping** technika állítsa le! Amennyiben adott számú epoch-on keresztül (`patience`) nem javul a validációs költség, érjen véget a betanítás és **állítsuk vissza a `cl_model` súlyait abból az epoch-ból, amikor a legjobb volt a validációs költség!** Mindez automatikusan történjen!\n",
        "\n",
        "A betanítás végeztével **mérd le az átlagos költséget a teljes teszthalmazon** és add értékül a kapott számot a `test_ce` változónak!\n",
        "\n",
        "**Számold ki az _accuracy_ (pontosság) metrikát is a teszthalmaz elemein** és add értékül a kapott számot a `test_acc` változónak! Az _accuracy_ metrika a helyesen klasszifikált mintaelemek arányát adja meg. Például, ha 150 mintaelem kategóriájának becslésekor 75 esetben találtuk el a helyes kategóriát, az _accuracy_ értéke 0.5 lesz.\n",
        "\n",
        "Ezt követően, **válassz néhány mintaelemet a teszthalmazból** (például a `dataloader_cl_test` iterátor segítségével) és **adj becslést a címkéjükre** (a kategória indexére) az input változók értékei alapján, majd **írasd ki az egyes mintaelemekre a becsült és az igazi címkéjüket** (a kategóriák indexét)! Így példákon is láthatjuk, hogy mennyire ad jó becsléseket a neuronhálónk.\n",
        "\n",
        "Végezetül, **számold ki a háló teszthalmazon vett konfúziós mátrixát és rajzold ki azt**! A konfúziós mátrix egy k x k méretű mátrix k kategória esetén, ahol az `[i,j]` indexű elem megadja, hogy az adathalmazon a modellünk hány `i` kategóriába tartozó mintaelemet becsült a `j` kategóriába. A modellünk jó teljesítményét jelzi, ha minél több elem kerül a konfúziós mátrix főátlójába. A számoláshoz felhasználhatsz külső könyvtárat is, de NumPy-ban is megoldható. A kirajzoláshoz használható például a `matplotlib.pyplot` csomag `imshow` függvénye. Figyelj rá, hogy a grafikonon világosan látszon, hogy melyik tengely sorolja fel az igazi kategóriákat és melyik a becsült kategóriákat, látszanak a sorok és oszlopok végén a kategóriák indexei és a cellákban az odatartozó mintaelemek darabszáma!\n"
      ]
    },
    {
      "cell_type": "code",
      "source": [
        "# implement your solution BELOW\n",
        "import torch.optim as optim\n",
        "from sklearn.metrics import confusion_matrix\n",
        "\n",
        "criterion = nn.CrossEntropyLoss()\n",
        "optimizer = optim.Adam(cl_model.parameters(), lr=0.001)\n",
        "\n",
        "patience = 5\n",
        "best_val_loss = float('inf')\n",
        "best_epoch = 0\n",
        "\n",
        "train_losses = []\n",
        "val_losses = []\n",
        "for epoch in range(100):\n",
        "    cl_model.train()\n",
        "    train_loss = 0.0\n",
        "    for inputs, targets in dataloader_cl_train:\n",
        "        optimizer.zero_grad()\n",
        "        outputs = cl_model(inputs)\n",
        "        loss = criterion(outputs, targets)\n",
        "        loss.backward()\n",
        "        optimizer.step()\n",
        "        train_loss += loss.item() * inputs.size(0)\n",
        "    train_loss /= len(dataloader_cl_train.dataset)\n",
        "    train_losses.append(train_loss)\n",
        "\n",
        "    cl_model.eval()\n",
        "    val_loss = 0.0\n",
        "    with torch.no_grad():\n",
        "        for inputs, targets in dataloader_cl_val:\n",
        "            outputs = cl_model(inputs)\n",
        "            loss = criterion(outputs, targets)\n",
        "            val_loss += loss.item() * inputs.size(0)\n",
        "        val_loss /= len(dataloader_cl_val.dataset)\n",
        "        val_losses.append(val_loss)\n",
        "\n",
        "        if val_loss < best_val_loss:\n",
        "            best_val_loss = val_loss\n",
        "            best_epoch = epoch\n",
        "            torch.save(cl_model.state_dict(), 'best_model.pth') # Best model\n",
        "        elif epoch - best_epoch >= patience:\n",
        "            print(f'Early stopping triggered after epoch {epoch}. Best validation loss: {best_val_loss}')\n",
        "            break\n",
        "\n",
        "plt.plot(train_losses, label='Training Loss')\n",
        "plt.plot(val_losses, label='Validation Loss')\n",
        "plt.xlabel('Epoch')\n",
        "plt.ylabel('Loss')\n",
        "plt.legend()\n",
        "plt.title('Training and Validation Losses')\n",
        "plt.show()\n",
        "\n",
        "cl_model.load_state_dict(torch.load('best_model.pth'))\n",
        "\n",
        "cl_model.eval()\n",
        "test_losses = []\n",
        "test_correct = 0\n",
        "test_total = 0\n",
        "predicted_labels = []\n",
        "true_labels = []\n",
        "with torch.no_grad():\n",
        "    for inputs, targets in dataloader_cl_test:\n",
        "        outputs = cl_model(inputs)\n",
        "        loss = criterion(outputs, targets)\n",
        "        test_losses.append(loss.item())\n",
        "        _, predicted = torch.max(outputs, 1)\n",
        "        test_correct += (predicted == targets).sum().item()\n",
        "        test_total += targets.size(0)\n",
        "        predicted_labels.extend(predicted.tolist())\n",
        "        true_labels.extend(targets.tolist())\n",
        "\n",
        "test_ce = np.mean(test_losses)\n",
        "test_acc = test_correct / test_total\n",
        "\n",
        "print(f'Test Cross-Entropy Loss: {test_ce}')\n",
        "print(f'Test Accuracy: {test_acc}')\n",
        "\n",
        "num_samples = 10\n",
        "sample_indices = np.random.choice(len(dataloader_cl_test.dataset), num_samples, replace=False)\n",
        "print('Predicted\\tTrue')\n",
        "for idx in sample_indices:\n",
        "    print(f'{predicted_labels[idx]}\\t\\t{true_labels[idx]}')\n",
        "\n",
        "cm = confusion_matrix(true_labels, predicted_labels)\n",
        "plt.imshow(cm, interpolation='nearest', cmap=plt.cm.Blues)\n",
        "plt.title('Confusion Matrix')\n",
        "plt.colorbar()\n",
        "plt.xlabel('Predicted Label')\n",
        "plt.ylabel('True Label')\n",
        "plt.show()\n",
        "\n",
        "\n",
        "\n",
        "\n",
        "\n",
        "# implement your solution ABOVE\n",
        "\n",
        "tester.test('cl_model_learning', test_ce, test_acc)"
      ],
      "metadata": {
        "id": "5v3_oyswb78-",
        "colab": {
          "base_uri": "https://localhost:8080/",
          "height": 1000
        },
        "outputId": "92b1e353-f192-4f48-e68c-78b165b18629"
      },
      "execution_count": 59,
      "outputs": [
        {
          "output_type": "stream",
          "name": "stdout",
          "text": [
            "Early stopping triggered after epoch 31. Best validation loss: 0.9908067953737476\n"
          ]
        },
        {
          "output_type": "display_data",
          "data": {
            "text/plain": [
              "<Figure size 640x480 with 1 Axes>"
            ],
            "image/png": "[encoded data removed]"
          },
          "metadata": {}
        },
        {
          "output_type": "stream",
          "name": "stdout",
          "text": [
            "Test Cross-Entropy Loss: 1.0004243055979412\n",
            "Test Accuracy: 0.4936708860759494\n",
            "Predicted\tTrue\n",
            "1\t\t2\n",
            "1\t\t0\n",
            "1\t\t0\n",
            "2\t\t1\n",
            "1\t\t2\n",
            "2\t\t1\n",
            "1\t\t0\n",
            "1\t\t0\n",
            "1\t\t0\n",
            "1\t\t1\n"
          ]
        },
        {
          "output_type": "display_data",
          "data": {
            "text/plain": [
              "<Figure size 640x480 with 2 Axes>"
            ],
            "image/png": "[encoded data removed]"
          },
          "metadata": {}
        },
        {
          "output_type": "stream",
          "name": "stdout",
          "text": [
            "Tester: Classification model learning OK\n"
          ]
        }
      ]
    }
  ]
}